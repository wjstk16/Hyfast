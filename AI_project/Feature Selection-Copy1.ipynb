{
 "cells": [
  {
   "cell_type": "code",
   "execution_count": 65,
   "metadata": {
    "scrolled": true
   },
   "outputs": [
    {
     "name": "stderr",
     "output_type": "stream",
     "text": [
      "Found `num_iterations` in params. Will use it instead of argument\n"
     ]
    },
    {
     "data": {
      "text/plain": [
       "-0.20572993969135434"
      ]
     },
     "execution_count": 65,
     "metadata": {},
     "output_type": "execute_result"
    }
   ],
   "source": [
    "import numpy as np\n",
    "import pandas as pd\n",
    "\n",
    "from lightgbm import LGBMRegressor\n",
    "from sklearn.model_selection import train_test_split\n",
    "from sklearn.preprocessing import StandardScaler\n",
    "\n",
    "from sklearn.ensemble import RandomForestClassifier\n",
    "from sklearn.ensemble import RandomForestRegressor\n",
    "from boruta import BorutaPy\n",
    "import shap\n",
    "import eli5\n",
    "from eli5.sklearn import PermutationImportance\n",
    "\n",
    "import matplotlib.pyplot as plt\n",
    "\n",
    "import warnings\n",
    "import gc\n",
    "#warnings.filterwarnings(\"ignore\")\n",
    "from sklearn.preprocessing import MinMaxScaler, StandardScaler\n",
    "\n",
    "data = pd.read_csv(\"./10feature_cpu.csv\")\n",
    "col = list(map(str, data.columns))\n",
    "x = data[col[:-1]]\n",
    "y = data[col[-1]]\n",
    "\n",
    "scaler = MinMaxScaler()\n",
    "#dscaler = scaler.fit(x)\n",
    "#x = dscaler.transform(x)\n",
    "#y = y.to_numpy()\n",
    "x = pd.DataFrame(scaler.fit_transform(x.values), columns=x.columns, index=x.index)\n",
    "#test_data_size = 40\n",
    "#x_train, x_test = x[:-test_data_size], x[-test_data_size:]\n",
    "#y_train, y_test = y[:-test_data_size], y[-test_data_size:]\n",
    "x_train, x_test, y_train, y_test = train_test_split(x,y,test_size=0.4)\n",
    "x_test, x_val, y_test, y_val = train_test_split(x_test,y_test, test_size=0.5)\n",
    "#x_train, x_val, y_train, y_val = train_test_split(x, y, random_state=0)\n",
    "\n",
    "model = LGBMRegressor(objective='regression', num_iterations=10**5)\n",
    "model.fit(x_train, y_train, eval_set=[(x_val, y_val)], early_stopping_rounds=100, verbose=False)\n",
    "val_pred = model.predict(x_val)\n",
    "score = rmse_expm1(val_pred, y_val)\n",
    "score\n",
    "\n"
   ]
  },
  {
   "cell_type": "code",
   "execution_count": 61,
   "metadata": {},
   "outputs": [
    {
     "data": {
      "text/plain": [
       "10"
      ]
     },
     "execution_count": 61,
     "metadata": {},
     "output_type": "execute_result"
    }
   ],
   "source": [
    "def rmse_expm1(pred, true):\n",
    "    return -np.sqrt(np.mean((np.expm1(pred)-np.expm1(true))**2))\n",
    "\n",
    "def evaluate(x_data, y_data):\n",
    "    model = LGBMRegressor(objective='regression', num_iterations=10**5)\n",
    "    x_train, x_val, y_train, y_val = train_test_split(x_data, y_data, random_state=0)\n",
    "    model.fit(x_train, y_train, eval_set=[(x_val, y_val)], early_stopping_rounds=100, verbose=False)\n",
    "    val_pred = model.predict(x_val)\n",
    "    score = rmse_expm1(val_pred, y_val)\n",
    "    return score\n",
    "\n",
    "def rfe(x_data, y_data, method, ratio=0.9, min_feats=40):\n",
    "    feats = x_data.columns.tolist()\n",
    "    archive = pd.DataFrame(columns=['model', 'n_feats', 'feats', 'score'])\n",
    "    while True:\n",
    "        model = LGBMRegressor(objective='regression', num_iterations=10**5)\n",
    "        #model = RandomForestClassifier(n_estimators=100, random_state=0)\n",
    "        x_train, x_val, y_train, y_val = train_test_split(x_data[feats], y_data, random_state=0)\n",
    "        model.fit(x_train, y_train)\n",
    "        val_pred = model.predict(x_val)\n",
    "        score = rmse_expm1(val_pred, y_val)\n",
    "        n_feats = len(feats)\n",
    "        print(n_feats, score)\n",
    "        archive = archive.append({'model': 'model', 'n_feats': n_feats, 'feats': feats, 'score': score}, ignore_index=True)\n",
    "        if method == 'basic':\n",
    "            feat_imp = pd.Series(model.feature_importances_, index=feats).sort_values(ascending=False)\n",
    "            #print(feat_imp)\n",
    "        elif method == 'perm':\n",
    "            perm = PermutationImportance(model, random_state=0).fit(x_val, y_val)\n",
    "            feat_imp = pd.Series(perm.feature_importances_, index=feats).sort_values(ascending=False)\n",
    "        elif method == 'shap':\n",
    "            explainer = shap.TreeExplainer(model)\n",
    "            shap_values = explainer.shap_values(x_data[feats])\n",
    "            feat_imp = pd.Series(np.abs(shap_values).mean(axis=0), index=feats).sort_values(ascending=False)\n",
    "        next_n_feats = int(n_feats * ratio)\n",
    "        if next_n_feats < min_feats:\n",
    "            break\n",
    "        else:\n",
    "            feats = feat_imp.iloc[:next_n_feats].index.tolist()\n",
    "    #print(feat_imp)\n",
    "    #return archive\n",
    "    return feat_imp\n",
    "\n",
    "feats = [col for col in data.columns if col != 'fault']\n",
    "len(feats)\n",
    "\n",
    "###LGBMRegressor  얘는 퍼센티지 합산1로 안나옴\n",
    "## 스코어 -> feat_imp값으로 바꾸거나 print(feat_imp) 필요"
   ]
  },
  {
   "cell_type": "code",
   "execution_count": 56,
   "metadata": {},
   "outputs": [
    {
     "name": "stdout",
     "output_type": "stream",
     "text": [
      "10 -0.12988989715497087\n",
      "node_schedstat_running_seconds_total    0.303984\n",
      "node_cpu_seconds_total                  0.266167\n",
      "node_schedstat_waiting_seconds_total    0.177553\n",
      "process_cpu_seconds_total               0.105110\n",
      "node_cpu_scaling_frequency_hertz        0.066249\n",
      "node_schedstat_timeslices_total         0.030927\n",
      "node_procs_running                      0.019859\n",
      "node_memory_Active_anon_bytes           0.015784\n",
      "node_memory_MemFree_bytes               0.013724\n",
      "node_memory_Unevictable_bytes           0.000644\n",
      "dtype: float64\n",
      "CPU times: user 188 ms, sys: 16 ms, total: 204 ms\n",
      "Wall time: 200 ms\n"
     ]
    }
   ],
   "source": [
    "%%time\n",
    "basic_archive = rfe(x, y, 'basic')\n",
    "#print('a')\n",
    "print(basic_archive)\n",
    "#basic_archive.shape"
   ]
  },
  {
   "cell_type": "code",
   "execution_count": 57,
   "metadata": {},
   "outputs": [
    {
     "name": "stderr",
     "output_type": "stream",
     "text": [
      "Found `num_iterations` in params. Will use it instead of argument\n"
     ]
    },
    {
     "name": "stdout",
     "output_type": "stream",
     "text": [
      "0 -0.7589060889132405\n",
      "1 -0.2643994726500434\n",
      "2 -0.11761299396876393\n",
      "3 -0.13870781512796804\n",
      "4 -0.13453956697124744\n",
      "5 -0.13704277786666993\n",
      "6 -0.14026192641912127\n",
      "7 -0.13793656335992224\n",
      "8 -0.14093714250367875\n",
      "9 -0.1424237268466996\n"
     ]
    }
   ],
   "source": [
    "feat_imp = pd.Series(model.feature_importances_, index=feats).sort_values(ascending=False)\n",
    "for i in range(10):\n",
    "    print(i, evaluate(data[feat_imp.iloc[:i].index], data['fault']))"
   ]
  },
  {
   "cell_type": "code",
   "execution_count": 58,
   "metadata": {},
   "outputs": [
    {
     "name": "stdout",
     "output_type": "stream",
     "text": [
      "10 -0.12988989715497087\n",
      "10 -0.12988989715497087\n",
      "CPU times: user 1.29 s, sys: 20 ms, total: 1.31 s\n",
      "Wall time: 1.31 s\n"
     ]
    },
    {
     "data": {
      "text/plain": [
       "node_cpu_seconds_total                  0.140000\n",
       "node_schedstat_running_seconds_total    0.064000\n",
       "node_memory_Active_anon_bytes           0.002286\n",
       "node_cpu_scaling_frequency_hertz        0.002286\n",
       "node_schedstat_waiting_seconds_total    0.001143\n",
       "node_schedstat_timeslices_total         0.000571\n",
       "process_cpu_seconds_total               0.000571\n",
       "node_procs_running                      0.000000\n",
       "node_memory_Unevictable_bytes           0.000000\n",
       "node_memory_MemFree_bytes              -0.000571\n",
       "dtype: float64"
      ]
     },
     "execution_count": 58,
     "metadata": {},
     "output_type": "execute_result"
    }
   ],
   "source": [
    "%%time\n",
    "perm_archive = rfe(x, y, 'perm')\n",
    "rfe(x, y, 'perm')"
   ]
  },
  {
   "cell_type": "code",
   "execution_count": 59,
   "metadata": {
    "scrolled": true
   },
   "outputs": [
    {
     "data": {
      "text/html": [
       "\n",
       "    <style>\n",
       "    table.eli5-weights tr:hover {\n",
       "        filter: brightness(85%);\n",
       "    }\n",
       "</style>\n",
       "\n",
       "\n",
       "\n",
       "    \n",
       "\n",
       "    \n",
       "\n",
       "    \n",
       "\n",
       "    \n",
       "\n",
       "    \n",
       "\n",
       "    \n",
       "\n",
       "\n",
       "    \n",
       "\n",
       "    \n",
       "\n",
       "    \n",
       "\n",
       "    \n",
       "\n",
       "    \n",
       "\n",
       "    \n",
       "\n",
       "\n",
       "    \n",
       "\n",
       "    \n",
       "\n",
       "    \n",
       "\n",
       "    \n",
       "\n",
       "    \n",
       "        <table class=\"eli5-weights eli5-feature-importances\" style=\"border-collapse: collapse; border: none; margin-top: 0em; table-layout: auto;\">\n",
       "    <thead>\n",
       "    <tr style=\"border: none;\">\n",
       "        <th style=\"padding: 0 1em 0 0.5em; text-align: right; border: none;\">Weight</th>\n",
       "        <th style=\"padding: 0 0.5em 0 0.5em; text-align: left; border: none;\">Feature</th>\n",
       "    </tr>\n",
       "    </thead>\n",
       "    <tbody>\n",
       "    \n",
       "        <tr style=\"background-color: hsl(120, 100.00%, 80.00%); border: none;\">\n",
       "            <td style=\"padding: 0 1em 0 0.5em; text-align: right; border: none;\">\n",
       "                0.1793\n",
       "                \n",
       "                    &plusmn; 0.0188\n",
       "                \n",
       "            </td>\n",
       "            <td style=\"padding: 0 0.5em 0 0.5em; text-align: left; border: none;\">\n",
       "                node_cpu_seconds_total\n",
       "            </td>\n",
       "        </tr>\n",
       "    \n",
       "        <tr style=\"background-color: hsl(120, 100.00%, 96.25%); border: none;\">\n",
       "            <td style=\"padding: 0 1em 0 0.5em; text-align: right; border: none;\">\n",
       "                0.0164\n",
       "                \n",
       "                    &plusmn; 0.0097\n",
       "                \n",
       "            </td>\n",
       "            <td style=\"padding: 0 0.5em 0 0.5em; text-align: left; border: none;\">\n",
       "                node_schedstat_running_seconds_total\n",
       "            </td>\n",
       "        </tr>\n",
       "    \n",
       "        <tr style=\"background-color: hsl(120, 100.00%, 97.22%); border: none;\">\n",
       "            <td style=\"padding: 0 1em 0 0.5em; text-align: right; border: none;\">\n",
       "                0.0107\n",
       "                \n",
       "                    &plusmn; 0.0078\n",
       "                \n",
       "            </td>\n",
       "            <td style=\"padding: 0 0.5em 0 0.5em; text-align: left; border: none;\">\n",
       "                node_schedstat_waiting_seconds_total\n",
       "            </td>\n",
       "        </tr>\n",
       "    \n",
       "        <tr style=\"background-color: hsl(120, 100.00%, 99.32%); border: none;\">\n",
       "            <td style=\"padding: 0 1em 0 0.5em; text-align: right; border: none;\">\n",
       "                0.0014\n",
       "                \n",
       "                    &plusmn; 0.0035\n",
       "                \n",
       "            </td>\n",
       "            <td style=\"padding: 0 0.5em 0 0.5em; text-align: left; border: none;\">\n",
       "                node_cpu_scaling_frequency_hertz\n",
       "            </td>\n",
       "        </tr>\n",
       "    \n",
       "        <tr style=\"background-color: hsl(0, 100.00%, 100.00%); border: none;\">\n",
       "            <td style=\"padding: 0 1em 0 0.5em; text-align: right; border: none;\">\n",
       "                0\n",
       "                \n",
       "                    &plusmn; 0.0000\n",
       "                \n",
       "            </td>\n",
       "            <td style=\"padding: 0 0.5em 0 0.5em; text-align: left; border: none;\">\n",
       "                node_procs_running\n",
       "            </td>\n",
       "        </tr>\n",
       "    \n",
       "        <tr style=\"background-color: hsl(0, 100.00%, 100.00%); border: none;\">\n",
       "            <td style=\"padding: 0 1em 0 0.5em; text-align: right; border: none;\">\n",
       "                0\n",
       "                \n",
       "                    &plusmn; 0.0000\n",
       "                \n",
       "            </td>\n",
       "            <td style=\"padding: 0 0.5em 0 0.5em; text-align: left; border: none;\">\n",
       "                node_memory_MemFree_bytes\n",
       "            </td>\n",
       "        </tr>\n",
       "    \n",
       "        <tr style=\"background-color: hsl(0, 100.00%, 100.00%); border: none;\">\n",
       "            <td style=\"padding: 0 1em 0 0.5em; text-align: right; border: none;\">\n",
       "                0\n",
       "                \n",
       "                    &plusmn; 0.0000\n",
       "                \n",
       "            </td>\n",
       "            <td style=\"padding: 0 0.5em 0 0.5em; text-align: left; border: none;\">\n",
       "                node_schedstat_timeslices_total\n",
       "            </td>\n",
       "        </tr>\n",
       "    \n",
       "        <tr style=\"background-color: hsl(0, 100.00%, 100.00%); border: none;\">\n",
       "            <td style=\"padding: 0 1em 0 0.5em; text-align: right; border: none;\">\n",
       "                0\n",
       "                \n",
       "                    &plusmn; 0.0000\n",
       "                \n",
       "            </td>\n",
       "            <td style=\"padding: 0 0.5em 0 0.5em; text-align: left; border: none;\">\n",
       "                process_cpu_seconds_total\n",
       "            </td>\n",
       "        </tr>\n",
       "    \n",
       "        <tr style=\"background-color: hsl(0, 100.00%, 100.00%); border: none;\">\n",
       "            <td style=\"padding: 0 1em 0 0.5em; text-align: right; border: none;\">\n",
       "                0\n",
       "                \n",
       "                    &plusmn; 0.0000\n",
       "                \n",
       "            </td>\n",
       "            <td style=\"padding: 0 0.5em 0 0.5em; text-align: left; border: none;\">\n",
       "                node_memory_Active_anon_bytes\n",
       "            </td>\n",
       "        </tr>\n",
       "    \n",
       "        <tr style=\"background-color: hsl(0, 100.00%, 100.00%); border: none;\">\n",
       "            <td style=\"padding: 0 1em 0 0.5em; text-align: right; border: none;\">\n",
       "                0\n",
       "                \n",
       "                    &plusmn; 0.0000\n",
       "                \n",
       "            </td>\n",
       "            <td style=\"padding: 0 0.5em 0 0.5em; text-align: left; border: none;\">\n",
       "                node_memory_Unevictable_bytes\n",
       "            </td>\n",
       "        </tr>\n",
       "    \n",
       "    \n",
       "    </tbody>\n",
       "</table>\n",
       "    \n",
       "\n",
       "    \n",
       "\n",
       "\n",
       "    \n",
       "\n",
       "    \n",
       "\n",
       "    \n",
       "\n",
       "    \n",
       "\n",
       "    \n",
       "\n",
       "    \n",
       "\n",
       "\n",
       "\n"
      ],
      "text/plain": [
       "<IPython.core.display.HTML object>"
      ]
     },
     "execution_count": 59,
     "metadata": {},
     "output_type": "execute_result"
    }
   ],
   "source": [
    "model = RandomForestClassifier(n_estimators=100, random_state=0)\n",
    "model.fit(x_train, y_train)\n",
    "perm = PermutationImportance(model, random_state=0).fit(x_val, y_val)\n",
    "perm_feat_imp = pd.Series(perm.feature_importances_, index=feats).sort_values(ascending=False)\n",
    "#eli5.show_weights(perm)\n",
    "eli5.show_weights(perm, top = 40, feature_names = x_train.columns.tolist())\n"
   ]
  },
  {
   "cell_type": "code",
   "execution_count": 11,
   "metadata": {},
   "outputs": [
    {
     "name": "stderr",
     "output_type": "stream",
     "text": [
      "Found `num_iterations` in params. Will use it instead of argument\n"
     ]
    },
    {
     "name": "stdout",
     "output_type": "stream",
     "text": [
      "40 -0.14214891753456094\n",
      "45 -0.14214891753456094\n",
      "50 -0.14214891753456094\n",
      "55 -0.14214891753456094\n",
      "60 -0.14214891753456094\n",
      "65 -0.14214891753456094\n",
      "70 -0.14214891753456094\n",
      "75 -0.14214891753456094\n",
      "80 -0.14214891753456094\n",
      "85 -0.14214891753456094\n"
     ]
    }
   ],
   "source": [
    "for i in range(40, 90, 5):\n",
    "    print(i, evaluate(data[perm_feat_imp.iloc[:i].index], data['fault']))"
   ]
  },
  {
   "cell_type": "code",
   "execution_count": 63,
   "metadata": {},
   "outputs": [
    {
     "name": "stdout",
     "output_type": "stream",
     "text": [
      "10 -0.13778999886461957\n",
      "CPU times: user 1h 24min 26s, sys: 46.4 s, total: 1h 25min 13s\n",
      "Wall time: 5min 26s\n"
     ]
    },
    {
     "data": {
      "text/plain": [
       "node_cpu_seconds_total                  0.250190\n",
       "node_schedstat_running_seconds_total    0.137131\n",
       "node_schedstat_waiting_seconds_total    0.032100\n",
       "node_cpu_scaling_frequency_hertz        0.025466\n",
       "process_cpu_seconds_total               0.023635\n",
       "node_memory_Active_anon_bytes           0.016130\n",
       "node_memory_MemFree_bytes               0.015190\n",
       "node_schedstat_timeslices_total         0.011505\n",
       "node_procs_running                      0.005667\n",
       "node_memory_Unevictable_bytes           0.005293\n",
       "dtype: float64"
      ]
     },
     "execution_count": 63,
     "metadata": {},
     "output_type": "execute_result"
    }
   ],
   "source": [
    "%%time\n",
    "shap_archive = rfe(x, y, 'shap')\n",
    "shap_archive"
   ]
  },
  {
   "cell_type": "code",
   "execution_count": 66,
   "metadata": {},
   "outputs": [
    {
     "name": "stderr",
     "output_type": "stream",
     "text": [
      "Setting feature_perturbation = \"tree_path_dependent\" because no background data was given.\n"
     ]
    },
    {
     "data": {
      "image/png": "[encoded data removed]",
      "text/plain": [
       "<Figure size 576x396 with 2 Axes>"
      ]
     },
     "metadata": {
      "needs_background": "light"
     },
     "output_type": "display_data"
    }
   ],
   "source": [
    "explainer = shap.TreeExplainer(model)\n",
    "shap_values = explainer.shap_values(x)\n",
    "shap_feat_imp = pd.Series(np.abs(shap_values).mean(axis=0), index=feats).sort_values(ascending=False)\n",
    "shap.summary_plot(shap_values, x)"
   ]
  },
  {
   "cell_type": "code",
   "execution_count": 14,
   "metadata": {},
   "outputs": [
    {
     "name": "stdout",
     "output_type": "stream",
     "text": [
      "40 -0.14214891753456094\n",
      "45 -0.14214891753456094\n",
      "50 -0.14214891753456094\n",
      "55 -0.14214891753456094\n",
      "60 -0.14214891753456094\n",
      "65 -0.14214891753456094\n",
      "70 -0.14214891753456094\n",
      "75 -0.14214891753456094\n",
      "80 -0.14214891753456094\n",
      "85 -0.14214891753456094\n"
     ]
    }
   ],
   "source": [
    "for i in range(40, 90, 5):\n",
    "    print(i, evaluate(data[shap_feat_imp.iloc[:i].index], data['fault']))"
   ]
  },
  {
   "cell_type": "code",
   "execution_count": 15,
   "metadata": {},
   "outputs": [
    {
     "data": {
      "image/png": "[encoded data removed]",
      "text/plain": [
       "<Figure size 1440x720 with 1 Axes>"
      ]
     },
     "metadata": {
      "needs_background": "light"
     },
     "output_type": "display_data"
    }
   ],
   "source": [
    "feat_imp_archive = pd.DataFrame(index=feats, columns=['basic', 'perm', 'shap', 'mean'])\n",
    "feat_imp_archive['basic'] = feat_imp.rank(ascending=False)\n",
    "feat_imp_archive['perm'] = perm_feat_imp.rank(ascending=False)\n",
    "feat_imp_archive['shap'] = shap_feat_imp.rank(ascending=False)\n",
    "feat_imp_archive['mean'] = feat_imp_archive[['basic', 'perm', 'shap']].mean(axis=1)\n",
    "feat_imp_archive = feat_imp_archive.sort_values('mean')\n",
    "feat_imp_archive[feat_imp_archive['mean']<20].plot(kind='bar', figsize=(20, 10), title='feature importance rankings');"
   ]
  },
  {
   "cell_type": "code",
   "execution_count": 16,
   "metadata": {},
   "outputs": [
    {
     "name": "stderr",
     "output_type": "stream",
     "text": [
      "Found `num_iterations` in params. Will use it instead of argument\n"
     ]
    },
    {
     "name": "stdout",
     "output_type": "stream",
     "text": [
      "40 -0.14214891753456094\n",
      "45 -0.14214891753456094\n",
      "50 -0.14214891753456094\n",
      "55 -0.14214891753456094\n",
      "60 -0.14214891753456094\n",
      "65 -0.14214891753456094\n",
      "70 -0.14214891753456094\n",
      "75 -0.14214891753456094\n",
      "80 -0.14214891753456094\n",
      "85 -0.14214891753456094\n"
     ]
    }
   ],
   "source": [
    "for i in range(40, 90, 5):\n",
    "    print(i, evaluate(data[feat_imp_archive.iloc[:i].index], data['fault']))"
   ]
  },
  {
   "cell_type": "code",
   "execution_count": 17,
   "metadata": {},
   "outputs": [
    {
     "name": "stderr",
     "output_type": "stream",
     "text": [
      "Found `num_iterations` in params. Will use it instead of argument\n"
     ]
    },
    {
     "name": "stdout",
     "output_type": "stream",
     "text": [
      "CPU times: user 1min 19s, sys: 6.56 s, total: 1min 25s\n",
      "Wall time: 35.2 s\n"
     ]
    },
    {
     "data": {
      "text/plain": [
       "-0.14649081677125042"
      ]
     },
     "execution_count": 17,
     "metadata": {},
     "output_type": "execute_result"
    }
   ],
   "source": [
    "%%time\n",
    "rf = RandomForestRegressor(n_jobs=-1, n_estimators=200, max_depth=5)\n",
    "feat_selector = BorutaPy(rf, n_estimators='auto', verbose=0, random_state=0)\n",
    "feat_selector.fit(data[feats].values, data['fault'].values)\n",
    "\n",
    "evaluate(data[np.array(feats)[feat_selector.support_]], data['fault'])"
   ]
  },
  {
   "cell_type": "code",
   "execution_count": null,
   "metadata": {},
   "outputs": [],
   "source": []
  },
  {
   "cell_type": "code",
   "execution_count": null,
   "metadata": {},
   "outputs": [],
   "source": []
  }
 ],
 "metadata": {
  "kernelspec": {
   "display_name": "Python 3",
   "language": "python",
   "name": "python3"
  },
  "language_info": {
   "codemirror_mode": {
    "name": "ipython",
    "version": 3
   },
   "file_extension": ".py",
   "mimetype": "text/x-python",
   "name": "python",
   "nbconvert_exporter": "python",
   "pygments_lexer": "ipython3",
   "version": "3.7.5"
  }
 },
 "nbformat": 4,
 "nbformat_minor": 4
}
