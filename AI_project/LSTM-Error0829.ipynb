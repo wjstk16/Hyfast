{
 "cells": [
  {
   "cell_type": "code",
   "execution_count": 40,
   "metadata": {},
   "outputs": [],
   "source": [
    "import random\n",
    "import math\n",
    "import torch\n",
    "import copy\n",
    "import pickle\n",
    "import torch.nn as nn\n",
    "import torch.optim as optim\n",
    "import numpy as np\n",
    "import pandas as pd\n",
    "import matplotlib.pyplot as plt\n",
    "from sklearn.decomposition import PCA\n",
    "from sklearn.metrics import pairwise_distances\n",
    "from sklearn.preprocessing import MinMaxScaler, StandardScaler"
   ]
  },
  {
   "cell_type": "code",
   "execution_count": 41,
   "metadata": {},
   "outputs": [],
   "source": [
    "# ======================================\n",
    "# Prepare Data\n",
    "def make_batch(data, batch_size, window_size, shuffle=True):\n",
    "    window_list = []\n",
    "    for i in range(len(data) - window_size - 1):\n",
    "        window = data[i: i + window_size]\n",
    "        window_list.append(window)\n",
    "\n",
    "    if shuffle:\n",
    "        random.shuffle(window_list)\n",
    "\n",
    "    n_batch = math.ceil(len(window_list) / batch_size)\n",
    "    batch_list = []\n",
    "    for i in range(n_batch):\n",
    "        batch = window_list[i*batch_size: (i+1)*batch_size]\n",
    "        batch_list.append(batch)\n",
    "    batch_list = np.array(batch_list)\n",
    "\n",
    "    return batch_list\n",
    "\n",
    "#data = pd.read_csv(\"./all_normaldata.tsv\", sep='\\t', index_col=False)\n",
    "data = pd.read_csv(\"./normal.csv\", sep=',', index_col=False)\n",
    "cpu_data = pd.read_csv(\"./CPU_metric_full.csv\", sep=',', index_col=False)\n",
    "ram_data = pd.read_csv(\"./Memory_metric_full.csv\", sep=',', index_col=False)\n",
    "\n",
    "#test = pd.read_csv(\"./Network_metric_full.csv\", sep=',', index_col=False)\n",
    "data = data.to_numpy()\n",
    "cpu_data = cpu_data.to_numpy()\n",
    "ram_data = ram_data.to_numpy()\n",
    "network_data = network_data.to_numpy()"
   ]
  },
  {
   "cell_type": "code",
   "execution_count": 42,
   "metadata": {},
   "outputs": [],
   "source": [
    "#scaler = MinMaxScaler(feature_range=(0,1))\n",
    "scaler = StandardScaler()"
   ]
  },
  {
   "cell_type": "code",
   "execution_count": 43,
   "metadata": {},
   "outputs": [],
   "source": [
    "data = scaler.fit_transform(data)\n",
    "cpu_data = scaler.fit_transform(cpu_data)\n",
    "ram_data = scaler.fit_transform(ram_data)\n",
    "network_data = scaler.fit_transform(network_data)"
   ]
  },
  {
   "cell_type": "code",
   "execution_count": 44,
   "metadata": {},
   "outputs": [],
   "source": [
    "# ======================================\n",
    "# Modeling\n",
    "class SequenceModel(nn.Module):\n",
    "    def __init__(self, input_size=1796, output_dim=1796, hidden_size=256, num_layers=1):\n",
    "        super(SequenceModel, self).__init__()\n",
    "        self.lstm = nn.LSTM(input_size=input_size,\n",
    "                            hidden_size=hidden_size,\n",
    "                            num_layers=num_layers,\n",
    "                            batch_first=True)\n",
    "        self.scaler_bias = nn.Parameter(torch.ones(input_size, requires_grad=True))\n",
    "        self.scaler = nn.Parameter(torch.ones(input_size, requires_grad=True))\n",
    "        self.linear = nn.Linear(hidden_size, output_dim)\n",
    "\n",
    "    def forward(self, x):\n",
    "        x = (x + self.scaler_bias) * self.scaler\n",
    "        zs, hidden = self.lstm(x)\n",
    "        z = zs[:, -1]\n",
    "        v = self.linear(zs)\n",
    "        return v, z"
   ]
  },
  {
   "cell_type": "code",
   "execution_count": 45,
   "metadata": {},
   "outputs": [],
   "source": [
    "# ======================================\n",
    "# Training\n",
    "window_size = 10\n",
    "batch_size = 192\n",
    "hidden_size = 128\n",
    "use_cuda = True\n",
    "\n",
    "model = SequenceModel(input_size=4585,\n",
    "                      output_dim=4585,\n",
    "                      hidden_size=hidden_size,\n",
    "                      num_layers=1)\n",
    "\n",
    "if use_cuda:\n",
    "    model.cuda()\n",
    "\n",
    "optimizer = optim.Adam(model.parameters(), lr=0.001)\n",
    "loss_fn = nn.MSELoss()\n",
    "\n",
    "n_epoch = 1000\n",
    "ema_loss = None\n",
    "alpha = 0.1\n",
    "verbose_interval = 50"
   ]
  },
  {
   "cell_type": "code",
   "execution_count": 46,
   "metadata": {},
   "outputs": [
    {
     "name": "stdout",
     "output_type": "stream",
     "text": [
      "0th epoch, loss: 0.2472286383924496\n",
      "50th epoch, loss: 0.13476748345825923\n",
      "100th epoch, loss: 0.09320844898331575\n",
      "150th epoch, loss: 0.07351255458898234\n",
      "200th epoch, loss: 0.07037049018941285\n",
      "250th epoch, loss: 0.06873470504826341\n",
      "300th epoch, loss: 0.06633299059809271\n",
      "350th epoch, loss: 0.06578717486232473\n",
      "400th epoch, loss: 0.06479829327826589\n",
      "450th epoch, loss: 0.06533300882630762\n",
      "500th epoch, loss: 0.0642614840746649\n",
      "550th epoch, loss: 0.06405446729635211\n",
      "600th epoch, loss: 0.06493589435492374\n",
      "650th epoch, loss: 0.06377000386323295\n",
      "700th epoch, loss: 0.06341071336215502\n",
      "750th epoch, loss: 0.06349427032536462\n",
      "800th epoch, loss: 0.06375963291219479\n",
      "850th epoch, loss: 0.06407467352817296\n",
      "900th epoch, loss: 0.06418543552407668\n",
      "950th epoch, loss: 0.06368193945188416\n"
     ]
    }
   ],
   "source": [
    "for epoch_i in range(n_epoch):\n",
    "\n",
    "    batch_list = make_batch(data, batch_size, window_size+1)\n",
    "    for batch_i, batch in enumerate(batch_list):\n",
    "        optimizer.zero_grad()\n",
    "\n",
    "        batch = np.array(batch)\n",
    "        batch_input = batch[:, :-1, :]\n",
    "        batch_output = batch[:, 1:, :]\n",
    "\n",
    "        batch_input = torch.tensor(batch_input, dtype=torch.float32)\n",
    "        batch_output = torch.tensor(batch_output, dtype=torch.float32)\n",
    "\n",
    "        if use_cuda:\n",
    "            batch_input = batch_input.cuda()\n",
    "            batch_output = batch_output.cuda()\n",
    "        \n",
    "        v, _ = model(batch_input)\n",
    "\n",
    "        loss = loss_fn(v, batch_output)\n",
    "\n",
    "        loss.backward()\n",
    "        optimizer.step()\n",
    "\n",
    "        if ema_loss is None:\n",
    "            ema_loss = loss.item()\n",
    "        ema_loss = loss.item() * alpha + (1.-alpha) * ema_loss\n",
    "\n",
    "    if epoch_i % verbose_interval == 0:\n",
    "        print(f\"{epoch_i}th epoch, loss: {ema_loss}\")"
   ]
  },
  {
   "cell_type": "code",
   "execution_count": 55,
   "metadata": {},
   "outputs": [
    {
     "name": "stderr",
     "output_type": "stream",
     "text": [
      "/home/ubuntu/anaconda3/envs/pytorch_env/lib/python3.7/site-packages/ipykernel_launcher.py:17: UserWarning: To copy construct from a tensor, it is recommended to use sourceTensor.clone().detach() or sourceTensor.clone().detach().requires_grad_(True), rather than torch.tensor(sourceTensor).\n"
     ]
    }
   ],
   "source": [
    "# ======================================\n",
    "# Inference\n",
    "model.eval()\n",
    "model.cpu()\n",
    "\n",
    "\n",
    "# Prepare train data distribution\n",
    "Z = []\n",
    "reconstruction_error = []\n",
    "\n",
    "batch_list = make_batch(data, batch_size, window_size, False)\n",
    "for batch_i, batch in enumerate(batch_list):\n",
    "    batch = np.array(batch)\n",
    "    batch_input = batch\n",
    "\n",
    "    batch_input = torch.tensor(batch_input, dtype=torch.float32)\n",
    "    batch_output = torch.tensor(batch_output, dtype=torch.float32)\n",
    "\n",
    "    v, z = model(batch_input)\n",
    "\n",
    "    Z.extend(z.tolist())\n",
    "    reconstruction_error.extend(torch.sum(torch.abs(v-batch_input), dim=[1,2]).detach().tolist())\n",
    "\n",
    "Z = np.array(Z)\n",
    "reconstruction_error = np.array(reconstruction_error)"
   ]
  },
  {
   "cell_type": "code",
   "execution_count": 58,
   "metadata": {},
   "outputs": [
    {
     "name": "stdout",
     "output_type": "stream",
     "text": [
      "[[0. 0. 0. ... 0. 0. 0.]\n",
      " [0. 0. 0. ... 0. 0. 0.]\n",
      " [0. 0. 0. ... 0. 0. 0.]\n",
      " ...\n",
      " [0. 0. 0. ... 0. 0. 0.]\n",
      " [0. 0. 0. ... 0. 0. 0.]\n",
      " [0. 0. 0. ... 0. 0. 0.]]\n"
     ]
    }
   ],
   "source": [
    "sample_pos = data[0:9]\n",
    "sample_neg_cpu = cpu_data\n",
    "sample_neg_ram = ram_data\n",
    "sample_neg_network = network_data\n",
    "\n",
    "print(sample_neg_cpu)"
   ]
  },
  {
   "cell_type": "code",
   "execution_count": 80,
   "metadata": {},
   "outputs": [],
   "source": [
    "# Samples for quering\n",
    "\n",
    "sample_pos = data\n",
    "sample_neg_cpu = cpu_data[50:59] \n",
    "sample_neg_ram = ram_data[30:39] \n",
    "sample_neg_network = network_data[30:39]\n",
    "\n",
    "sample_pos = np.array(sample_pos)  # sequence_length x featbure size\n",
    "sample_pos = torch.tensor(sample_pos, dtype=torch.float32)  # sequence_length x feature size\n",
    "sample_pos = sample_pos.unsqueeze(0)  # 1 x sequence_length x feature size\n",
    "prediction_pos, z_prime_pos = model(sample_pos)\n",
    "\n",
    "# neg_cpu\n",
    "sample_neg_cpu = np.array(sample_neg_cpu)  # sequence_length x feature size\n",
    "sample_neg_cpu = torch.tensor(sample_neg_cpu, dtype=torch.float32)  # sequence_length x feature size\n",
    "sample_neg_cpu = sample_neg_cpu.unsqueeze(0)  # 1 x sequence_length x feature size\n",
    "prediction_neg_cpu, z_prime_neg_cpu = model(sample_neg_cpu)\n",
    "\n",
    "# neg_ram\n",
    "sample_neg_ram = np.array(sample_neg_ram)  # sequence_length x feature size\n",
    "sample_neg_ram = torch.tensor(sample_neg_ram, dtype=torch.float32)  # sequence_length x feature size\n",
    "sample_neg_ram = sample_neg_ram.unsqueeze(0)  # 1 x sequence_length x feature size\n",
    "prediction_neg_ram, z_prime_neg_ram = model(sample_neg_ram)\n",
    "\n",
    "# neg_network\n",
    "sample_neg_network = np.array(sample_neg_network)  # sequence_length x feature size\n",
    "sample_neg_network = torch.tensor(sample_neg_network, dtype=torch.float32)  # sequence_length x feature size\n",
    "sample_neg_network = sample_neg_network.unsqueeze(0)  # 1 x sequence_length x feature size\n",
    "prediction_neg_network, z_prime_neg_network = model(sample_neg_network)\n",
    "\n",
    "z_prime_pos = z_prime_pos.detach().numpy()\n",
    "z_prime_neg_cpu = z_prime_neg_cpu.detach().numpy()\n",
    "z_prime_neg_ram = z_prime_neg_ram.detach().numpy()\n",
    "z_prime_neg_network = z_prime_neg_network.detach().numpy()\n",
    "\n",
    "reconstruction_error_pos = torch.sum(torch.abs(prediction_pos[:, -1:,:] - sample_pos[:, :-1, :]), dim=[1,2]).detach().tolist()\n",
    "reconstruction_error_neg_cpu = torch.sum(torch.abs(prediction_neg_cpu[:, -1:,:] - prediction_neg_cpu[:, :-1, :]), dim=[1,2]).detach().tolist()\n",
    "reconstruction_error_neg_ram = torch.sum(torch.abs(prediction_neg_ram[:, -1:,:] - prediction_neg_ram[:, :-1, :]), dim=[1,2]).detach().tolist()\n",
    "reconstruction_error_neg_network = torch.sum(torch.abs(prediction_neg_network[:, -1:,:] - prediction_neg_network[:, :-1, :]), dim=[1,2]).detach().tolist()"
   ]
  },
  {
   "cell_type": "code",
   "execution_count": 81,
   "metadata": {},
   "outputs": [
    {
     "data": {
      "image/png": "[encoded data removed]",
      "text/plain": [
       "<Figure size 432x288 with 1 Axes>"
      ]
     },
     "metadata": {
      "needs_background": "light"
     },
     "output_type": "display_data"
    }
   ],
   "source": [
    "# ======================================\n",
    "# Visualize latent space\n",
    "pca = PCA(n_components=2)\n",
    "\n",
    "Z_for_PCA = copy.deepcopy(Z)\n",
    "Z_for_PCA = np.concatenate( [Z_for_PCA, z_prime_neg_cpu])\n",
    "Z_for_PCA = np.concatenate( [Z_for_PCA, z_prime_neg_ram])\n",
    "Z_for_PCA = np.concatenate( [Z_for_PCA, z_prime_neg_network])\n",
    "\n",
    "pca.fit(Z_for_PCA)\n",
    "\n",
    "\n",
    "Z_2d = pca.transform(Z_for_PCA)\n",
    "z_prime_pos_2d = pca.transform(z_prime_pos)\n",
    "z_prime_neg_2d_cpu = pca.transform(z_prime_neg_cpu)\n",
    "z_prime_neg_2d_ram = pca.transform(z_prime_neg_ram)\n",
    "z_prime_neg_2d_network = pca.transform(z_prime_neg_network)\n",
    "\n",
    "plt.scatter(Z_2d[:, 0], Z_2d[:, 1], color='k')\n",
    "plt.scatter(z_prime_pos_2d[:, 0],z_prime_pos_2d[:, 1] , color='g', label='normal')\n",
    "plt.scatter(z_prime_neg_2d_cpu[:, 0],z_prime_neg_2d_cpu[:, 1] , color='r', label='cpu')\n",
    "plt.scatter(z_prime_neg_2d_ram[:, 0],z_prime_neg_2d_ram[:, 1] , color='b', label='ram')\n",
    "plt.scatter(z_prime_neg_2d_network[:, 0],z_prime_neg_2d_network[:, 1] , color='y', label='network')\n",
    "plt.legend()\n",
    "plt.show()"
   ]
  },
  {
   "cell_type": "code",
   "execution_count": 79,
   "metadata": {},
   "outputs": [
    {
     "name": "stdout",
     "output_type": "stream",
     "text": [
      "[[0.11107632]]\n",
      "[[0.26390916]]\n",
      "[[0.15464324]]\n"
     ]
    }
   ],
   "source": [
    "dist1 = pairwise_distances(z_prime_neg_cpu, z_prime_neg_ram)\n",
    "dist2 = pairwise_distances(z_prime_neg_cpu, z_prime_neg_network)\n",
    "dist3 = pairwise_distances(z_prime_neg_ram, z_prime_neg_network)\n",
    "print(dist1)\n",
    "print(dist2)\n",
    "print(dist3)"
   ]
  },
  {
   "cell_type": "code",
   "execution_count": 67,
   "metadata": {},
   "outputs": [
    {
     "data": {
      "image/png": "[encoded data removed]",
      "text/plain": [
       "<Figure size 432x288 with 1 Axes>"
      ]
     },
     "metadata": {
      "needs_background": "light"
     },
     "output_type": "display_data"
    },
    {
     "data": {
      "image/png": "[encoded data removed]",
      "text/plain": [
       "<Figure size 432x288 with 1 Axes>"
      ]
     },
     "metadata": {
      "needs_background": "light"
     },
     "output_type": "display_data"
    },
    {
     "data": {
      "image/png": "[encoded data removed]",
      "text/plain": [
       "<Figure size 432x288 with 1 Axes>"
      ]
     },
     "metadata": {
      "needs_background": "light"
     },
     "output_type": "display_data"
    }
   ],
   "source": [
    "# ======================================\n",
    "# Plot Reconstruction Error \n",
    "neg_height = 1\n",
    "\n",
    "min_val = min(min(reconstruction_error), min(reconstruction_error_neg_cpu))\n",
    "max_val = max(max(reconstruction_error), max(reconstruction_error_neg_cpu))\n",
    "bins = np.linspace(min_val, \n",
    "                   max_val,\n",
    "                   100)\n",
    "##CPU\n",
    "plt.hist(reconstruction_error_neg_cpu * neg_height, bins=bins, alpha=0.5, color='red', label='abnormal')\n",
    "plt.hist(reconstruction_error, bins=bins, alpha=0.5,color='k', label='normal')\n",
    "plt.legend()\n",
    "plt.show()\n",
    "\n",
    "min_val = min(min(reconstruction_error), min(reconstruction_error_neg_ram))\n",
    "max_val = max(max(reconstruction_error), max(reconstruction_error_neg_ram))\n",
    "bins = np.linspace(min_val, \n",
    "                   max_val,\n",
    "                   100)\n",
    "\n",
    "##RAM\n",
    "plt.hist(reconstruction_error_neg_ram * neg_height, bins=bins, alpha=0.5, color='red', label='abnormal')\n",
    "plt.hist(reconstruction_error, bins=bins, alpha=0.5,color='k', label='normal')\n",
    "plt.legend()\n",
    "plt.show()\n",
    "\n",
    "\n",
    "##Network\n",
    "min_val = min(min(reconstruction_error), min(reconstruction_error_neg_network))\n",
    "max_val = max(max(reconstruction_error), max(reconstruction_error_neg_network))\n",
    "bins = np.linspace(min_val, \n",
    "                   max_val,\n",
    "                   100)\n",
    "\n",
    "plt.hist(reconstruction_error_neg_network * neg_height, bins=bins, alpha=0.5, color='red', label='abnormal')\n",
    "plt.hist(reconstruction_error, bins=bins, alpha=0.5,color='k', label='normal')\n",
    "plt.legend()\n",
    "plt.show()\n",
    "\n"
   ]
  },
  {
   "cell_type": "code",
   "execution_count": 83,
   "metadata": {},
   "outputs": [
    {
     "name": "stdout",
     "output_type": "stream",
     "text": [
      "248.89149854287155 2187.0138351815926\n"
     ]
    }
   ],
   "source": [
    "rce_std = np.std(reconstruction_error)\n",
    "rce_mean = np.mean(reconstruction_error)\n",
    "print(rce_std,rce_mean)"
   ]
  },
  {
   "cell_type": "code",
   "execution_count": null,
   "metadata": {},
   "outputs": [],
   "source": [
    "#######PDF calculation###########\n",
    "\n",
    "def normpdf(x, mean, sd):\n",
    "    var = float(sd)**2\n",
    "    denom = (2*math.pi*var)**.5\n",
    "    num = math.exp(-(float(x)-float(mean))**2/(2*var))\n",
    "    return num/denom"
   ]
  },
  {
   "cell_type": "code",
   "execution_count": null,
   "metadata": {},
   "outputs": [],
   "source": [
    "x = \n",
    "normpdf(x, rce_mean, rce_std)"
   ]
  },
  {
   "cell_type": "code",
   "execution_count": null,
   "metadata": {},
   "outputs": [],
   "source": [
    "P(recon_error=1600) = 0.4"
   ]
  },
  {
   "cell_type": "code",
   "execution_count": null,
   "metadata": {},
   "outputs": [],
   "source": [
    "reconstruction_error"
   ]
  },
  {
   "cell_type": "code",
   "execution_count": null,
   "metadata": {},
   "outputs": [],
   "source": [
    "reconstruction_error_neg"
   ]
  },
  {
   "cell_type": "code",
   "execution_count": null,
   "metadata": {},
   "outputs": [],
   "source": [
    "import pickle"
   ]
  },
  {
   "cell_type": "code",
   "execution_count": null,
   "metadata": {},
   "outputs": [],
   "source": [
    "# Data Load\n",
    "torch.save(model.state_dict(), \"ckpt/model.ckpt\")\n",
    "\n",
    "with open(\"./ckpt/Z.pickle\", \"wb\") as f:\n",
    "    pickle.dump(Z, f)"
   ]
  },
  {
   "cell_type": "code",
   "execution_count": null,
   "metadata": {},
   "outputs": [],
   "source": [
    "with open(\"./ckpt/scaler.pickle\", \"wb\") as f:\n",
    "    pickle.dump(scaler, f)"
   ]
  },
  {
   "cell_type": "code",
   "execution_count": null,
   "metadata": {},
   "outputs": [],
   "source": [
    "meta = ['정상'] * 50 + ['cpu때문'] * 50  +['비정상'] * 6"
   ]
  },
  {
   "cell_type": "code",
   "execution_count": null,
   "metadata": {},
   "outputs": [],
   "source": [
    "with open(\"./ckpt/Z_meta.pickle\", \"wb\") as f:\n",
    "    pickle.dump(meta, f)"
   ]
  },
  {
   "cell_type": "code",
   "execution_count": null,
   "metadata": {},
   "outputs": [],
   "source": [
    "Z.shape"
   ]
  },
  {
   "cell_type": "markdown",
   "metadata": {},
   "source": [
    "# Use"
   ]
  },
  {
   "cell_type": "code",
   "execution_count": null,
   "metadata": {},
   "outputs": [],
   "source": [
    "# ======================================\n",
    "# Modeling\n",
    "class SequenceModel(nn.Module):\n",
    "    def __init__(self, input_size=1796, output_dim=1796, hidden_size=256, num_layers=1):\n",
    "        super(SequenceModel, self).__init__()\n",
    "        self.lstm = nn.LSTM(input_size=input_size,\n",
    "                            hidden_size=hidden_size,\n",
    "                            num_layers=num_layers,\n",
    "                            batch_first=True)\n",
    "        self.scaler_bias = nn.Parameter(torch.ones(input_size, requires_grad=True))\n",
    "        self.scaler = nn.Parameter(torch.ones(input_size, requires_grad=True))\n",
    "        self.linear = nn.Linear(hidden_size, output_dim)\n",
    "\n",
    "    def forward(self, x):\n",
    "        x = (x + self.scaler_bias) * self.scaler\n",
    "        zs, hidden = self.lstm(x)\n",
    "        z = zs[:, -1]\n",
    "        v = self.linear(zs)\n",
    "        return v, z"
   ]
  },
  {
   "cell_type": "code",
   "execution_count": null,
   "metadata": {},
   "outputs": [],
   "source": [
    "model = SequenceModel(input_size=4585,\n",
    "                      output_dim=4585,\n",
    "                      hidden_size=hidden_size,\n",
    "                      num_layers=1)"
   ]
  },
  {
   "cell_type": "code",
   "execution_count": null,
   "metadata": {},
   "outputs": [],
   "source": [
    "model.load_state_dict(torch.load( \"ckpt/model.ckpt\"))"
   ]
  },
  {
   "cell_type": "code",
   "execution_count": null,
   "metadata": {},
   "outputs": [],
   "source": [
    "with open(\"./ckpt/Z.pickle\", \"rb\") as f:\n",
    "    Z = pickle.load(f)"
   ]
  },
  {
   "cell_type": "code",
   "execution_count": null,
   "metadata": {},
   "outputs": [],
   "source": [
    "Z"
   ]
  },
  {
   "cell_type": "code",
   "execution_count": null,
   "metadata": {},
   "outputs": [],
   "source": [
    "\n",
    "sample_neg = data[46:55] + np.random.random( data[46:55].shape).reshape(9, 4585) * 0.1\n",
    "\n",
    "sample_neg = np.array(sample_neg)  # sequence_length x feature size\n",
    "sample_neg = torch.tensor(sample_neg, dtype=torch.float32)  # sequence_length x feature size\n",
    "sample_neg = sample_neg.unsqueeze(0)  # 1 x sequence_length x feature size\n",
    "prediction_neg, z_prime_neg = model(sample_neg)\n",
    "\n",
    "z_prime_neg = z_prime_neg.detach().numpy()\n",
    "\n",
    "reconstruction_error_neg = torch.sum(torch.abs(prediction_neg[:, -1:,:] - sample_neg[:, :-1, :]), dim=[1,2]).detach().tolist()"
   ]
  },
  {
   "cell_type": "code",
   "execution_count": null,
   "metadata": {},
   "outputs": [],
   "source": [
    "input_ = sample_neg"
   ]
  },
  {
   "cell_type": "code",
   "execution_count": null,
   "metadata": {},
   "outputs": [],
   "source": []
  },
  {
   "cell_type": "code",
   "execution_count": null,
   "metadata": {},
   "outputs": [],
   "source": []
  },
  {
   "cell_type": "code",
   "execution_count": null,
   "metadata": {},
   "outputs": [],
   "source": [
    "batch_input.shape"
   ]
  },
  {
   "cell_type": "code",
   "execution_count": null,
   "metadata": {},
   "outputs": [],
   "source": [
    "batch_input.dtype"
   ]
  },
  {
   "cell_type": "code",
   "execution_count": null,
   "metadata": {},
   "outputs": [],
   "source": [
    "sample_neg.shape"
   ]
  },
  {
   "cell_type": "code",
   "execution_count": null,
   "metadata": {},
   "outputs": [],
   "source": [
    "pairwise_distances()"
   ]
  },
  {
   "cell_type": "code",
   "execution_count": null,
   "metadata": {},
   "outputs": [],
   "source": [
    "f(x_t+1, x_t+2, x_t+3,.. x_t+999 |x_t, x_t-1, x_t-2)"
   ]
  },
  {
   "cell_type": "code",
   "execution_count": null,
   "metadata": {},
   "outputs": [],
   "source": []
  }
 ],
 "metadata": {
  "kernelspec": {
   "display_name": "Python 3",
   "language": "python",
   "name": "python3"
  },
  "language_info": {
   "codemirror_mode": {
    "name": "ipython",
    "version": 3
   },
   "file_extension": ".py",
   "mimetype": "text/x-python",
   "name": "python",
   "nbconvert_exporter": "python",
   "pygments_lexer": "ipython3",
   "version": "3.7.5"
  }
 },
 "nbformat": 4,
 "nbformat_minor": 4
}
