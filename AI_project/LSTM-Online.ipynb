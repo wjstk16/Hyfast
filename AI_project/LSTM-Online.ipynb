{
 "cells": [
  {
   "cell_type": "code",
   "execution_count": 151,
   "metadata": {},
   "outputs": [],
   "source": [
    "import random\n",
    "import pickle\n",
    "import math\n",
    "import scipy as sp\n",
    "import scipy.stats as sps\n",
    "import torch\n",
    "import torch.nn as nn\n",
    "import torch.optim as optim\n",
    "import numpy as np\n",
    "import pandas as pd\n",
    "import torch.optim as optim\n",
    "import matplotlib.pyplot as plt\n",
    "from sklearn.decomposition import PCA\n",
    "from sklearn.metrics import pairwise_distances\n",
    "from sklearn.preprocessing import MinMaxScaler, StandardScaler"
   ]
  },
  {
   "cell_type": "code",
   "execution_count": 152,
   "metadata": {},
   "outputs": [],
   "source": [
    "# ======================================\n",
    "# Modeling\n",
    "class SequenceModel(nn.Module):\n",
    "    def __init__(self, input_size=1796, output_dim=1796, hidden_size=256, num_layers=1):\n",
    "        super(SequenceModel, self).__init__()\n",
    "        self.lstm = nn.LSTM(input_size=input_size,\n",
    "                            hidden_size=hidden_size,\n",
    "                            num_layers=num_layers,\n",
    "                            batch_first=True)\n",
    "        self.scaler_bias = nn.Parameter(torch.ones(input_size, requires_grad=True))\n",
    "        self.scaler = nn.Parameter(torch.ones(input_size, requires_grad=True))\n",
    "        self.linear = nn.Linear(hidden_size, output_dim)\n",
    "\n",
    "    def forward(self, x):\n",
    "        x = (x + self.scaler_bias) * self.scaler\n",
    "        zs, hidden = self.lstm(x)\n",
    "        z = zs[:, -1]\n",
    "        v = self.linear(zs)\n",
    "        return v, z"
   ]
  },
  {
   "cell_type": "code",
   "execution_count": 153,
   "metadata": {},
   "outputs": [],
   "source": [
    "model = SequenceModel(input_size=1657,\n",
    "                      output_dim=1657,\n",
    "                      hidden_size=128,\n",
    "                      num_layers=1)"
   ]
  },
  {
   "cell_type": "code",
   "execution_count": 154,
   "metadata": {},
   "outputs": [
    {
     "data": {
      "text/plain": [
       "SequenceModel(\n",
       "  (lstm): LSTM(1657, 128, batch_first=True)\n",
       "  (linear): Linear(in_features=128, out_features=1657, bias=True)\n",
       ")"
      ]
     },
     "execution_count": 154,
     "metadata": {},
     "output_type": "execute_result"
    }
   ],
   "source": [
    "model.load_state_dict(torch.load( \"ckpt/model.ckpt\"))\n",
    "model.eval()"
   ]
  },
  {
   "cell_type": "code",
   "execution_count": 155,
   "metadata": {},
   "outputs": [],
   "source": [
    "with open(\"./ckpt/Z.pickle\", \"rb\") as f:\n",
    "    Z = pickle.load(f)\n",
    "    \n",
    "with open(\"./ckpt/scaler.pickle\", \"rb\") as f:\n",
    "    scaler = pickle.load(f)"
   ]
  },
  {
   "cell_type": "code",
   "execution_count": 156,
   "metadata": {},
   "outputs": [],
   "source": [
    "# Prepare Data\n",
    "def make_batch(data, batch_size, window_size, shuffle=True):\n",
    "    window_list = []\n",
    "    for i in range(len(data) - window_size - 1):\n",
    "        window = data[i: i + window_size]\n",
    "        window_list.append(window)\n",
    "\n",
    "    if shuffle:\n",
    "        random.shuffle(window_list)\n",
    "\n",
    "    n_batch = math.ceil(len(window_list) / batch_size)\n",
    "    batch_list = []\n",
    "    for i in range(n_batch):\n",
    "        batch = window_list[i*batch_size: (i+1)*batch_size]\n",
    "        batch_list.append(batch)\n",
    "    batch_list = np.array(batch_list)\n",
    "\n",
    "    return batch_list"
   ]
  },
  {
   "cell_type": "code",
   "execution_count": 157,
   "metadata": {},
   "outputs": [],
   "source": [
    "for_header = pd.read_csv(\"./Memory_metric_sort.csv\", sep=',', index_col=False)\n",
    "headers = list(for_header.keys())"
   ]
  },
  {
   "cell_type": "code",
   "execution_count": 158,
   "metadata": {},
   "outputs": [],
   "source": [
    "############Load New data set for Marking anomal position##################\n",
    "############please add new data which includes anomal data set#############\n",
    "##2) 모델로 비정상 포함 데이터셋에 Z뽑기 --> 여기에 모든 리소스의 이상한 값들이 들어간 데이터셋을 사용\n",
    "#비슷한 갯수로 작업.. 데이터는 다르게\n",
    "Z_anormal_CPU = []\n",
    "window_size = 10\n",
    "batch_size =192\n",
    "\n",
    "anormal_CPU = pd.read_csv(\"./cpu_increase_100.csv\", sep=',', index_col=False)\n",
    "anormal_CPU = anormal_CPU[headers]\n",
    "#anormal_CPU = anormal_CPU[anormal_CPU.fault ==1][headers]\n",
    "anormal_CPU = anormal_CPU.to_numpy()\n",
    "anormal_CPU = scaler.transform(anormal_CPU)\n",
    "\n",
    "\n",
    "batch_list = make_batch(anormal_CPU, batch_size, window_size, False)\n",
    "for batch_i, batch in enumerate(batch_list):\n",
    "    batch = np.array(batch)\n",
    "    batch_input = batch\n",
    "\n",
    "    batch_input = torch.tensor(batch_input, dtype=torch.float32)\n",
    "    anormal_CPU_v, anormal_cpu_z = model(batch_input)\n",
    "    Z_anormal_CPU.append(anormal_cpu_z.detach().numpy())\n",
    "    \n",
    "Z_anormal_mem = []\n",
    "window_size = 10\n",
    "batch_size =192\n",
    "\n",
    "anormal_mem = pd.read_csv(\"./Memory_metric_sort.csv\", sep=',', index_col=False)\n",
    "anormal_mem = anormal_mem.to_numpy()\n",
    "anormal_mem = scaler.transform(anormal_mem)\n",
    "\n",
    "\n",
    "batch_list = make_batch(anormal_mem, batch_size, window_size, False)\n",
    "for batch_i, batch in enumerate(batch_list):\n",
    "    batch = np.array(batch)\n",
    "    batch_input = batch\n",
    "\n",
    "    batch_input = torch.tensor(batch_input, dtype=torch.float32)\n",
    "    anormal_mem_v, anormal_mem_z = model(batch_input)\n",
    "    Z_anormal_mem.append(anormal_mem_z.detach().numpy())    \n",
    "    \n",
    "    \n",
    "Z_anormal_net = []\n",
    "window_size = 10\n",
    "batch_size =192\n",
    "\n",
    "anormal_net = pd.read_csv(\"./Network_metric.csv\", sep=',', index_col=False)[headers]\n",
    "\n",
    "anormal_net = anormal_net.to_numpy()\n",
    "anormal_net = scaler.transform(anormal_net)\n",
    "\n",
    "\n",
    "batch_list = make_batch(anormal_net, batch_size, window_size, False)\n",
    "for batch_i, batch in enumerate(batch_list):\n",
    "    batch = np.array(batch)\n",
    "    batch_input = batch\n",
    "\n",
    "    batch_input = torch.tensor(batch_input, dtype=torch.float32)\n",
    "    anormal_net_v, anormal_net_z = model(batch_input)\n",
    "    Z_anormal_net.append(anormal_net_z.detach().numpy())        \n",
    "\n",
    "    \n",
    "    \n"
   ]
  },
  {
   "cell_type": "code",
   "execution_count": 159,
   "metadata": {},
   "outputs": [],
   "source": [
    "####4) 정상 데이터셋을 모델로 Z_normal뽑기  \n",
    "\n",
    "Z_normal = []\n",
    "normal = pd.read_csv(\"./all_metric_sort_err.csv\", sep=',', index_col=False)\n",
    "normal =normal[headers][:50]\n",
    "\n",
    "\n",
    "normal = normal.to_numpy()\n",
    "normal = scaler.transform(normal)\n",
    "\n",
    "batch_list = make_batch(normal, batch_size, window_size, False)\n",
    "for batch_i, batch in enumerate(batch_list):\n",
    "    batch = np.array(batch)\n",
    "    batch_input = batch\n",
    "\n",
    "    batch_input = torch.tensor(batch_input, dtype=torch.float32)\n",
    "    normal_v, normal_z = model(batch_input)\n",
    "    Z_normal.append(normal_z.detach().numpy())    "
   ]
  },
  {
   "cell_type": "code",
   "execution_count": 161,
   "metadata": {},
   "outputs": [],
   "source": [
    "#### 5) 비정상 샘플포인트 모델로 sample_neg_z 뽑기\n",
    "# CPU 메모리  네트워크 등의 장애 샘플 포인트를 넣어서 마킹?\n",
    "\n",
    "\n",
    "##CPU\n",
    "sample_neg = pd.read_csv(\"./cpu_increase_100.csv\", sep=',', index_col=False)\n",
    "sample_neg = sample_neg[headers]\n",
    "sample_neg = sample_neg.to_numpy()\n",
    "sample_neg = scaler.transform(sample_neg)\n",
    "\n",
    "\n",
    "# ##CPU ______Samples for quering\n",
    "sample_neg = sample_neg[43:86] \n",
    "sample_neg = np.array(sample_neg)  # sequence_length x featbure size\n",
    "sample_neg = torch.tensor(sample_neg, dtype=torch.float32)  # sequence_length x feature size\n",
    "sample_neg = sample_neg.unsqueeze(0)  # 1 x sequence_length x feature size\n",
    "prediction_CPU, z_prime_CPU = model(sample_neg)    \n",
    "z_prime_CPU = z_prime_CPU.detach().numpy()\n",
    "\n",
    "#Memory\n",
    "sample_neg2 = pd.read_csv(\"./Memory_metric_sort.csv\", sep=',', index_col=False)\n",
    "sample_neg2 = sample_neg2.to_numpy()\n",
    "sample_neg2 = scaler.transform(sample_neg2)\n",
    "\n",
    "\n",
    "# ##MEM ______Samples for quering\n",
    "sample_neg2 = sample_neg2[21:60] \n",
    "sample_neg2 = np.array(sample_neg2)  # sequence_length x featbure size\n",
    "sample_neg2 = torch.tensor(sample_neg2, dtype=torch.float32)  # sequence_length x feature size\n",
    "sample_neg2 = sample_neg2.unsqueeze(0)  # 1 x sequence_length x feature size\n",
    "prediction_MeM, z_prime_MeM = model(sample_neg2)    \n",
    "z_prime_MeM = z_prime_MeM.detach().numpy()\n",
    "\n",
    "\n",
    "#Network\n",
    "sample_neg3 = pd.read_csv(\"./Network_metric_sort.csv\", sep=',', index_col=False)\n",
    "sample_neg3 = sample_neg3.to_numpy()\n",
    "sample_neg3 = scaler.transform(sample_neg3)\n",
    "\n",
    "\n",
    " ##Network ______Samples for quering\n",
    "sample_neg3 = sample_neg3[21:60]\n",
    "sample_neg3 = np.array(sample_neg3)  # sequence_length x featbure size\n",
    "sample_neg3 = torch.tensor(sample_neg3, dtype=torch.float32)  # sequence_length x feature size\n",
    "sample_neg3 = sample_neg3.unsqueeze(0)  # 1 x sequence_length x feature size\n",
    "prediction_network, Z_prime_network = model(sample_neg3)    \n",
    "Z_prime_network = Z_prime_network.detach().numpy()"
   ]
  },
  {
   "cell_type": "code",
   "execution_count": 162,
   "metadata": {},
   "outputs": [],
   "source": [
    "####6) Z_normal, z_prime_neg 를 pca. transform\n",
    "\n",
    "# ======================================\n",
    "# Visualize latent space\n",
    "\n",
    "pca = PCA(n_components=2)\n",
    "Z_normal = np.concatenate(Z_normal)\n",
    "Z_anormal_CPU = np.concatenate(Z_anormal_CPU)\n",
    "Z_anormal_mem = np.concatenate(Z_anormal_mem) \n",
    "Z_anormal_net = np.concatenate(Z_anormal_net) \n",
    "\n",
    "#z_prime_CPU = z_prime_CPU.reshape((1,-1))\n",
    "#z_prime_MeM = z_prime_MeM.reshape((1,-1))\n",
    "#z_prime_network = z_prime_network.reshape((1,-1))\n",
    "\n",
    "\n",
    "#print(Z_anormal.shape)\n",
    "#print(Z_normal.shape)\n",
    "#print(z_prime_CPU.shape)\n",
    "#print(z_prime_MeM.shape)\n",
    "#print(z_prime_network.shape)\n",
    "Z = np.concatenate([Z_normal, Z_anormal_CPU, Z_anormal_mem, Z_anormal_net])\n",
    "label = ['normal']*len(Z_normal) + ['cpu_error']*len(Z_anormal_CPU) + ['mem_error']*len(Z_anormal_mem) + ['net_error']*len(Z_anormal_net)"
   ]
  },
  {
   "cell_type": "code",
   "execution_count": 163,
   "metadata": {},
   "outputs": [
    {
     "data": {
      "text/plain": [
       "(253, 128)"
      ]
     },
     "execution_count": 163,
     "metadata": {},
     "output_type": "execute_result"
    }
   ],
   "source": [
    "Z.shape"
   ]
  },
  {
   "cell_type": "code",
   "execution_count": 164,
   "metadata": {},
   "outputs": [
    {
     "data": {
      "text/plain": [
       "253"
      ]
     },
     "execution_count": 164,
     "metadata": {},
     "output_type": "execute_result"
    }
   ],
   "source": [
    "len(label)"
   ]
  },
  {
   "cell_type": "code",
   "execution_count": 165,
   "metadata": {},
   "outputs": [],
   "source": [
    "sample_neg = pd.read_csv(\"./CPU_metric_sort.csv\", sep=',', index_col=False)\n",
    "sample_neg = sample_neg.to_numpy()\n",
    "sample_neg = scaler.transform(sample_neg)\n",
    "\n",
    "\n",
    "# ##CPU ______Samples for quering\n",
    "sample_neg = sample_neg[43:86][3:13]\n",
    "sample_neg = np.array(sample_neg)  # sequence_length x featbure size\n",
    "sample_neg = torch.tensor(sample_neg, dtype=torch.float32)  # sequence_length x feature size\n",
    "sample_neg = sample_neg.unsqueeze(0)  # 1 x sequence_length x feature size\n",
    "prediction_CPU, z_prime_CPU = model(sample_neg)    \n",
    "z_prime_CPU = z_prime_CPU.detach().numpy()"
   ]
  },
  {
   "cell_type": "code",
   "execution_count": null,
   "metadata": {},
   "outputs": [],
   "source": []
  },
  {
   "cell_type": "code",
   "execution_count": 166,
   "metadata": {},
   "outputs": [],
   "source": [
    "distance_matrix = pairwise_distances(z_prime_CPU, Z)"
   ]
  },
  {
   "cell_type": "code",
   "execution_count": 167,
   "metadata": {},
   "outputs": [
    {
     "data": {
      "text/plain": [
       "(1, 253)"
      ]
     },
     "execution_count": 167,
     "metadata": {},
     "output_type": "execute_result"
    }
   ],
   "source": [
    "distance_matrix.shape"
   ]
  },
  {
   "cell_type": "code",
   "execution_count": 168,
   "metadata": {},
   "outputs": [],
   "source": [
    "distance_matrix = distance_matrix.flatten()"
   ]
  },
  {
   "cell_type": "code",
   "execution_count": 169,
   "metadata": {},
   "outputs": [
    {
     "data": {
      "text/plain": [
       "(253,)"
      ]
     },
     "execution_count": 169,
     "metadata": {},
     "output_type": "execute_result"
    }
   ],
   "source": [
    "distance_matrix.shape"
   ]
  },
  {
   "cell_type": "code",
   "execution_count": 170,
   "metadata": {},
   "outputs": [],
   "source": [
    "idxs = distance_matrix.argsort()"
   ]
  },
  {
   "cell_type": "code",
   "execution_count": 171,
   "metadata": {},
   "outputs": [
    {
     "data": {
      "text/plain": [
       "array([151, 167, 206, 212, 211])"
      ]
     },
     "execution_count": 171,
     "metadata": {},
     "output_type": "execute_result"
    }
   ],
   "source": [
    "idxs[:5]"
   ]
  },
  {
   "cell_type": "code",
   "execution_count": 172,
   "metadata": {},
   "outputs": [
    {
     "data": {
      "text/plain": [
       "array([1.2159931e-05, 9.0778478e-05, 7.6159418e-01, 7.6159418e-01,\n",
       "       7.6159418e-01], dtype=float32)"
      ]
     },
     "execution_count": 172,
     "metadata": {},
     "output_type": "execute_result"
    }
   ],
   "source": [
    "distance_matrix[idxs[:5]]"
   ]
  },
  {
   "cell_type": "code",
   "execution_count": 173,
   "metadata": {},
   "outputs": [],
   "source": [
    "top_reason = []\n",
    "for idx in idxs[:5]:\n",
    "    top_reason.append(label[idx])"
   ]
  },
  {
   "cell_type": "code",
   "execution_count": 174,
   "metadata": {},
   "outputs": [
    {
     "data": {
      "text/plain": [
       "['mem_error', 'mem_error', 'net_error', 'net_error', 'net_error']"
      ]
     },
     "execution_count": 174,
     "metadata": {},
     "output_type": "execute_result"
    }
   ],
   "source": [
    "top_reason"
   ]
  },
  {
   "cell_type": "code",
   "execution_count": null,
   "metadata": {},
   "outputs": [],
   "source": []
  },
  {
   "cell_type": "code",
   "execution_count": null,
   "metadata": {},
   "outputs": [],
   "source": []
  },
  {
   "cell_type": "code",
   "execution_count": 175,
   "metadata": {},
   "outputs": [
    {
     "data": {
      "text/plain": [
       "1.2159931e-05"
      ]
     },
     "execution_count": 175,
     "metadata": {},
     "output_type": "execute_result"
    }
   ],
   "source": [
    "distance_matrix[idxs[0]]"
   ]
  },
  {
   "cell_type": "code",
   "execution_count": 176,
   "metadata": {},
   "outputs": [
    {
     "data": {
      "text/plain": [
       "(68, 68)"
      ]
     },
     "execution_count": 176,
     "metadata": {},
     "output_type": "execute_result"
    }
   ],
   "source": [
    "len(Z_anormal_mem),  len(Z_anormal_net)"
   ]
  },
  {
   "cell_type": "code",
   "execution_count": null,
   "metadata": {},
   "outputs": [],
   "source": []
  },
  {
   "cell_type": "code",
   "execution_count": 179,
   "metadata": {},
   "outputs": [
    {
     "ename": "ValueError",
     "evalue": "operands could not be broadcast together with shapes (1,2) (128,) ",
     "output_type": "error",
     "traceback": [
      "\u001b[0;31m---------------------------------------------------------------------------\u001b[0m",
      "\u001b[0;31mValueError\u001b[0m                                Traceback (most recent call last)",
      "\u001b[0;32m<ipython-input-179-c03b63611950>\u001b[0m in \u001b[0;36m<module>\u001b[0;34m\u001b[0m\n\u001b[1;32m      3\u001b[0m \u001b[0;34m\u001b[0m\u001b[0m\n\u001b[1;32m      4\u001b[0m \u001b[0mZ_2d\u001b[0m \u001b[0;34m=\u001b[0m \u001b[0mpca\u001b[0m\u001b[0;34m.\u001b[0m\u001b[0mtransform\u001b[0m\u001b[0;34m(\u001b[0m\u001b[0mZ\u001b[0m\u001b[0;34m)\u001b[0m\u001b[0;34m\u001b[0m\u001b[0;34m\u001b[0m\u001b[0m\n\u001b[0;32m----> 5\u001b[0;31m \u001b[0mz_prime_CPU\u001b[0m \u001b[0;34m=\u001b[0m \u001b[0mpca\u001b[0m\u001b[0;34m.\u001b[0m\u001b[0mtransform\u001b[0m\u001b[0;34m(\u001b[0m\u001b[0mz_prime_CPU\u001b[0m\u001b[0;34m)\u001b[0m\u001b[0;34m\u001b[0m\u001b[0;34m\u001b[0m\u001b[0m\n\u001b[0m\u001b[1;32m      6\u001b[0m \u001b[0mz_prime_MeM\u001b[0m \u001b[0;34m=\u001b[0m \u001b[0mpca\u001b[0m\u001b[0;34m.\u001b[0m\u001b[0mtransform\u001b[0m\u001b[0;34m(\u001b[0m\u001b[0mz_prime_MeM\u001b[0m\u001b[0;34m)\u001b[0m\u001b[0;34m\u001b[0m\u001b[0;34m\u001b[0m\u001b[0m\n\u001b[1;32m      7\u001b[0m \u001b[0mZ_prime_network\u001b[0m \u001b[0;34m=\u001b[0m \u001b[0mpca\u001b[0m\u001b[0;34m.\u001b[0m\u001b[0mtransform\u001b[0m\u001b[0;34m(\u001b[0m\u001b[0mZ_prime_network\u001b[0m\u001b[0;34m)\u001b[0m\u001b[0;34m\u001b[0m\u001b[0;34m\u001b[0m\u001b[0m\n",
      "\u001b[0;32m~/anaconda3/envs/pytorch_env/lib/python3.7/site-packages/sklearn/decomposition/_base.py\u001b[0m in \u001b[0;36mtransform\u001b[0;34m(self, X)\u001b[0m\n\u001b[1;32m    127\u001b[0m         \u001b[0mX\u001b[0m \u001b[0;34m=\u001b[0m \u001b[0mcheck_array\u001b[0m\u001b[0;34m(\u001b[0m\u001b[0mX\u001b[0m\u001b[0;34m)\u001b[0m\u001b[0;34m\u001b[0m\u001b[0;34m\u001b[0m\u001b[0m\n\u001b[1;32m    128\u001b[0m         \u001b[0;32mif\u001b[0m \u001b[0mself\u001b[0m\u001b[0;34m.\u001b[0m\u001b[0mmean_\u001b[0m \u001b[0;32mis\u001b[0m \u001b[0;32mnot\u001b[0m \u001b[0;32mNone\u001b[0m\u001b[0;34m:\u001b[0m\u001b[0;34m\u001b[0m\u001b[0;34m\u001b[0m\u001b[0m\n\u001b[0;32m--> 129\u001b[0;31m             \u001b[0mX\u001b[0m \u001b[0;34m=\u001b[0m \u001b[0mX\u001b[0m \u001b[0;34m-\u001b[0m \u001b[0mself\u001b[0m\u001b[0;34m.\u001b[0m\u001b[0mmean_\u001b[0m\u001b[0;34m\u001b[0m\u001b[0;34m\u001b[0m\u001b[0m\n\u001b[0m\u001b[1;32m    130\u001b[0m         \u001b[0mX_transformed\u001b[0m \u001b[0;34m=\u001b[0m \u001b[0mnp\u001b[0m\u001b[0;34m.\u001b[0m\u001b[0mdot\u001b[0m\u001b[0;34m(\u001b[0m\u001b[0mX\u001b[0m\u001b[0;34m,\u001b[0m \u001b[0mself\u001b[0m\u001b[0;34m.\u001b[0m\u001b[0mcomponents_\u001b[0m\u001b[0;34m.\u001b[0m\u001b[0mT\u001b[0m\u001b[0;34m)\u001b[0m\u001b[0;34m\u001b[0m\u001b[0;34m\u001b[0m\u001b[0m\n\u001b[1;32m    131\u001b[0m         \u001b[0;32mif\u001b[0m \u001b[0mself\u001b[0m\u001b[0;34m.\u001b[0m\u001b[0mwhiten\u001b[0m\u001b[0;34m:\u001b[0m\u001b[0;34m\u001b[0m\u001b[0;34m\u001b[0m\u001b[0m\n",
      "\u001b[0;31mValueError\u001b[0m: operands could not be broadcast together with shapes (1,2) (128,) "
     ]
    }
   ],
   "source": [
    "#Z = np.concatenate([Z_normal, Z_anormal, z_prime_CPU, z_prime_MeM, z_prime_network])\n",
    "pca.fit(Z)\n",
    "\n",
    "Z_2d = pca.transform(Z)\n",
    "z_prime_CPU = pca.transform(z_prime_CPU)\n",
    "z_prime_MeM = pca.transform(z_prime_MeM)\n",
    "Z_prime_network = pca.transform(Z_prime_network)\n",
    "\n",
    "plt.figure(figsize=(15,15))\n",
    "\n",
    "#plt.scatter(Z_2d[:len(Z_normal), 0], Z_2d[:len(Z_normal), 1], color='k', label='normal')\n",
    "\n",
    "plt.scatter(Z_2d[len(Z_normal):len(Z_normal)+len(Z_anormal_CPU), 0], Z_2d[len(Z_normal):len(Z_normal)+len(Z_anormal_CPU), 1], color='g',label='cpu_error')\n",
    "\n",
    "\n",
    "plt.scatter(Z_2d[len(Z_normal)+len(Z_anormal_CPU):len(Z_normal)+len(Z_anormal_CPU)+len(Z_anormal_mem), 0],\n",
    "            Z_2d[len(Z_normal)+len(Z_anormal_CPU):len(Z_normal)+len(Z_anormal_CPU)+len(Z_anormal_mem), 1], color='r')\n",
    "\n",
    "plt.scatter(Z_2d[len(Z_normal)+len(Z_anormal_CPU)+len(Z_anormal_mem):, 0],\n",
    "            Z_2d[len(Z_normal)+len(Z_anormal_CPU)+len(Z_anormal_mem):, 1], color='y')\n",
    "\n",
    "\n",
    "# plt.scatter(z_prime_CPU[:, 0],z_prime_CPU[:, 1] , color='purple', s=10, label='CPU')\n",
    "# plt.scatter(z_prime_MeM[:, 0],z_prime_MeM[:, 1] , color='blue', s=10, label='MEM')\n",
    "# plt.scatter(Z_prime_network[:, 0],Z_prime_network[:, 1] , color='pink', s=10, label='NET')\n",
    "plt.legend()\n",
    "plt.show()"
   ]
  },
  {
   "cell_type": "code",
   "execution_count": 178,
   "metadata": {},
   "outputs": [
    {
     "data": {
      "text/plain": [
       "(39, 78, 68, 68)"
      ]
     },
     "execution_count": 178,
     "metadata": {},
     "output_type": "execute_result"
    }
   ],
   "source": [
    "len(Z_normal), len(Z_anormal_CPU), len(Z_anormal_mem), len(Z_anormal_net)"
   ]
  },
  {
   "cell_type": "code",
   "execution_count": null,
   "metadata": {},
   "outputs": [],
   "source": []
  },
  {
   "cell_type": "code",
   "execution_count": 70,
   "metadata": {},
   "outputs": [
    {
     "data": {
      "image/png": "[encoded data removed]",
      "text/plain": [
       "<Figure size 432x288 with 1 Axes>"
      ]
     },
     "metadata": {
      "needs_background": "light"
     },
     "output_type": "display_data"
    }
   ],
   "source": [
    "plt.scatter(Z_prime_network[:, 0],Z_prime_network[:, 1] , color='pink', label='NET')\n",
    "plt.legend()\n",
    "plt.show()"
   ]
  },
  {
   "cell_type": "code",
   "execution_count": 71,
   "metadata": {},
   "outputs": [
    {
     "ename": "AttributeError",
     "evalue": "'list' object has no attribute 'shape'",
     "output_type": "error",
     "traceback": [
      "\u001b[0;31m---------------------------------------------------------------------------\u001b[0m",
      "\u001b[0;31mAttributeError\u001b[0m                            Traceback (most recent call last)",
      "\u001b[0;32m<ipython-input-71-2effacb8693a>\u001b[0m in \u001b[0;36m<module>\u001b[0;34m\u001b[0m\n\u001b[0;32m----> 1\u001b[0;31m \u001b[0mZ_anormal_net\u001b[0m\u001b[0;34m.\u001b[0m\u001b[0mshape\u001b[0m\u001b[0;34m\u001b[0m\u001b[0;34m\u001b[0m\u001b[0m\n\u001b[0m",
      "\u001b[0;31mAttributeError\u001b[0m: 'list' object has no attribute 'shape'"
     ]
    }
   ],
   "source": [
    "Z_anormal_net.shape"
   ]
  },
  {
   "cell_type": "code",
   "execution_count": 72,
   "metadata": {},
   "outputs": [
    {
     "data": {
      "text/plain": [
       "array([[0., 0., 0., ..., 0., 0., 0.],\n",
       "       [0., 0., 0., ..., 0., 0., 0.],\n",
       "       [0., 0., 0., ..., 0., 0., 0.],\n",
       "       ...,\n",
       "       [0., 0., 0., ..., 0., 0., 0.],\n",
       "       [0., 0., 0., ..., 0., 0., 0.],\n",
       "       [0., 0., 0., ..., 0., 0., 0.]], dtype=float32)"
      ]
     },
     "execution_count": 72,
     "metadata": {},
     "output_type": "execute_result"
    }
   ],
   "source": [
    "np.std(Z_anormal_net, axis=0)"
   ]
  },
  {
   "cell_type": "code",
   "execution_count": null,
   "metadata": {},
   "outputs": [],
   "source": []
  },
  {
   "cell_type": "code",
   "execution_count": null,
   "metadata": {},
   "outputs": [],
   "source": []
  },
  {
   "cell_type": "code",
   "execution_count": 73,
   "metadata": {},
   "outputs": [],
   "source": [
    "########### anomaly detection #################\n",
    "#1) put the newdata into the model\n",
    "\n",
    "newdata = pd.read_csv(\"./cpu_increase_art_357100.csv\", sep=',', index_col=False)\n",
    "newdata =newdata[headers]\n",
    "newdata = newdata.to_numpy()\n",
    "\n",
    "newdata = scaler.transform(newdata)\n",
    "\n",
    "Z_newdata = []\n",
    "\n",
    "\n",
    "reconstruction_error_new =[]\n",
    "\n",
    "for i in range(len(newdata) - window_size - 1):\n",
    "    batch_input = newdata[i: i + window_size]\n",
    "    batch_input = torch.tensor(batch_input, dtype=torch.float32).unsqueeze(0)\n",
    "    new_v, new_z = model(batch_input)\n",
    "    Z_newdata.append(new_z.detach().numpy())\n",
    "    reconstruction_error_new.append(torch.sum(torch.abs(new_v[:, :-1, :] - batch_input[:, 1:, :] )).item())"
   ]
  },
  {
   "cell_type": "code",
   "execution_count": 74,
   "metadata": {},
   "outputs": [],
   "source": [
    "#2) Laading PDF value and get proability of error.\n",
    "\n",
    "##Loading PDF value\n",
    "f = open(\"./ckpt/pdf.txt\", 'r')\n",
    "line = f.readline()\n",
    "rce_std, rce_mean  = line.split()\n",
    "f.close()"
   ]
  },
  {
   "cell_type": "code",
   "execution_count": 75,
   "metadata": {},
   "outputs": [
    {
     "name": "stdout",
     "output_type": "stream",
     "text": [
      "258.02361837433557 796.506901365338\n",
      "maxg 0.001546146367975722\n"
     ]
    }
   ],
   "source": [
    "##get proability of error.\n",
    "\n",
    "# new_v: 1 x seq len x n feature\n",
    "\n",
    "#Z = np.array(Z)\n",
    "#하나씩 하는것과 나눠서 하는것 차이가없는지..\n",
    "\n",
    "reconstruction_error_new = np.array(reconstruction_error_new, dtype=np.float)\n",
    "\n",
    "rce_std = float(rce_std)\n",
    "rce_mean = float(rce_mean)\n",
    "print(rce_std,rce_mean)\n",
    "rv = sps.norm(loc=rce_mean, scale=rce_std)\n",
    "maxg = rv.pdf(rce_mean)\n",
    "print('maxg', maxg)"
   ]
  },
  {
   "cell_type": "code",
   "execution_count": 76,
   "metadata": {},
   "outputs": [],
   "source": [
    "pdf = rv.logpdf(reconstruction_error_new)"
   ]
  },
  {
   "cell_type": "code",
   "execution_count": 77,
   "metadata": {},
   "outputs": [
    {
     "name": "stdout",
     "output_type": "stream",
     "text": [
      "[1.03764176e+17 1.03764176e+17 1.03764176e+17 1.03764176e+17\n",
      " 1.03764176e+17 1.03764176e+17 1.03764176e+17 1.03764176e+17\n",
      " 1.03764176e+17 1.03764176e+17 1.03764176e+17 1.03764176e+17\n",
      " 1.03764176e+17 1.03764176e+17 1.03764176e+17 1.03764176e+17\n",
      " 1.03764176e+17 1.03764176e+17 1.03764176e+17 1.03764176e+17\n",
      " 1.03764176e+17 1.03764176e+17 1.03764176e+17 1.03764176e+17\n",
      " 1.03764176e+17 1.03764176e+17 1.03764176e+17 1.03764176e+17\n",
      " 1.03764176e+17 1.03764176e+17 1.03764176e+17 1.03764176e+17\n",
      " 1.03764176e+17 1.03764176e+17 1.03764176e+17 1.03764176e+17\n",
      " 1.03764176e+17 1.03764176e+17 1.03764176e+17 1.03764176e+17\n",
      " 1.03764176e+17 1.03764176e+17 1.03764176e+17 1.03764176e+17\n",
      " 1.03764176e+17 1.03764176e+17 1.03764176e+17 1.03764176e+17\n",
      " 1.03764176e+17 1.03764176e+17 1.03764176e+17 1.03764176e+17\n",
      " 1.03764176e+17 1.03764176e+17 1.03764176e+17 1.03764176e+17\n",
      " 1.03764176e+17 1.03764176e+17 1.03764176e+17 1.03764176e+17\n",
      " 1.03764176e+17 1.03764176e+17 1.03764176e+17 1.03764176e+17\n",
      " 1.03764176e+17 1.03764176e+17 1.03764176e+17 1.03764176e+17\n",
      " 1.03764176e+17 1.03764176e+17 1.03764176e+17 1.03764176e+17\n",
      " 1.03764176e+17 1.03764176e+17 1.03764176e+17 1.03764176e+17\n",
      " 1.03764176e+17 1.03764176e+17 1.03764176e+17 1.03764176e+17\n",
      " 1.03764176e+17 1.03764176e+17 1.03764176e+17 1.03764176e+17\n",
      " 1.03764194e+17 1.03764194e+17 1.03764194e+17 1.03764194e+17\n",
      " 1.03764211e+17 1.03764211e+17 1.03764211e+17 1.03764219e+17\n",
      " 1.03764219e+17 1.03764219e+17 1.03764219e+17 1.03764219e+17\n",
      " 1.03764219e+17 1.03764219e+17 1.03764219e+17 1.03764219e+17\n",
      " 1.03764219e+17 1.03764219e+17 1.03764219e+17 1.03764219e+17\n",
      " 1.03764219e+17 1.03764219e+17 1.03764219e+17 1.03764219e+17\n",
      " 1.03764219e+17 1.03764219e+17 1.03764219e+17 1.03764219e+17\n",
      " 1.03764219e+17 1.03764219e+17 1.03764219e+17 1.03764219e+17\n",
      " 1.03764219e+17 1.03764219e+17 1.03764219e+17 1.03764219e+17\n",
      " 1.03764219e+17 1.03764219e+17 1.03764219e+17 1.03764219e+17\n",
      " 1.03764219e+17 1.03764219e+17 1.03764219e+17 1.03764219e+17\n",
      " 1.03764219e+17 1.03764219e+17 1.03764219e+17 1.03764219e+17\n",
      " 1.03764219e+17 1.03764219e+17 1.03764219e+17 1.03764219e+17\n",
      " 1.03764219e+17 1.03764219e+17 1.03764219e+17 1.03764219e+17\n",
      " 1.03764219e+17 1.03764219e+17 1.03764219e+17 1.03764219e+17\n",
      " 1.03764219e+17 1.03764219e+17 1.03764219e+17 1.03764219e+17\n",
      " 1.03764219e+17 1.03764219e+17 1.03764219e+17 1.03764219e+17\n",
      " 1.03764219e+17 1.03764219e+17 1.03764219e+17 1.03764219e+17\n",
      " 1.03764219e+17 1.03764219e+17 1.03764219e+17 1.03764219e+17\n",
      " 1.03764219e+17 1.03764219e+17 1.03764219e+17 1.03764219e+17\n",
      " 1.03764219e+17 1.03764219e+17 1.03764219e+17 1.03764219e+17\n",
      " 1.03764219e+17 1.03764228e+17 1.03764228e+17 1.03764245e+17\n",
      " 1.03764245e+17 1.03764254e+17 1.03764271e+17 1.03764271e+17\n",
      " 1.03764280e+17 1.03764288e+17 1.03764288e+17 1.03764288e+17\n",
      " 1.03764288e+17 1.03764288e+17 1.03764288e+17 1.03764288e+17\n",
      " 1.03764288e+17 1.03764288e+17 1.03764288e+17 1.03764288e+17\n",
      " 1.03764288e+17 1.03764288e+17 1.03764288e+17 1.03764288e+17\n",
      " 1.03764288e+17 1.03764288e+17 1.03764288e+17 1.03764288e+17\n",
      " 1.03764288e+17 1.03764288e+17 1.03764288e+17 1.03764288e+17\n",
      " 1.03764288e+17 1.03764288e+17 1.03764288e+17 1.03764288e+17\n",
      " 1.03764288e+17 1.03764288e+17 1.03764288e+17 1.03764288e+17\n",
      " 1.03764288e+17 1.03764288e+17 1.03764288e+17 1.03764288e+17\n",
      " 1.03764288e+17 1.03764288e+17 1.03764288e+17 1.03764288e+17\n",
      " 1.03764288e+17 1.03764288e+17 1.03764288e+17 1.03764288e+17\n",
      " 1.03764288e+17 1.03764288e+17 1.03764288e+17 1.03764288e+17\n",
      " 1.03764288e+17 1.03764288e+17 1.03764288e+17 1.03764288e+17\n",
      " 1.03764288e+17 1.03764288e+17 1.03764288e+17 1.03764288e+17\n",
      " 1.03764288e+17 1.03764288e+17 1.03764288e+17 1.03764288e+17\n",
      " 1.03764288e+17 1.03764288e+17 1.03764288e+17 1.03764288e+17\n",
      " 1.03764288e+17 1.03764288e+17 1.03764288e+17 1.03764288e+17\n",
      " 1.03764288e+17 1.03764288e+17 1.03764288e+17 1.03764288e+17\n",
      " 1.03764288e+17 1.03764288e+17 1.03764288e+17 1.03764288e+17\n",
      " 1.03764288e+17 1.03764288e+17 1.03764288e+17 1.03764288e+17\n",
      " 1.03764288e+17 1.03764288e+17 1.03764288e+17 1.03764288e+17]\n"
     ]
    }
   ],
   "source": [
    "len(pdf), len(reconstruction_error_new)\n",
    "print(reconstruction_error_new)"
   ]
  },
  {
   "cell_type": "code",
   "execution_count": 78,
   "metadata": {},
   "outputs": [
    {
     "data": {
      "text/plain": [
       "1.0376417648836608e+17"
      ]
     },
     "execution_count": 78,
     "metadata": {},
     "output_type": "execute_result"
    }
   ],
   "source": [
    "reconstruction_error_new[40]"
   ]
  },
  {
   "cell_type": "code",
   "execution_count": 79,
   "metadata": {},
   "outputs": [],
   "source": [
    "#pdf = (reconstruction_error_new - rce_mean)/rce_std"
   ]
  },
  {
   "cell_type": "code",
   "execution_count": 80,
   "metadata": {},
   "outputs": [
    {
     "data": {
      "image/png": "[encoded data removed]",
      "text/plain": [
       "<Figure size 432x288 with 1 Axes>"
      ]
     },
     "metadata": {
      "needs_background": "light"
     },
     "output_type": "display_data"
    },
    {
     "name": "stdout",
     "output_type": "stream",
     "text": [
      "[-8.08622775e+28 -8.08622775e+28 -8.08622775e+28 -8.08622775e+28\n",
      " -8.08622775e+28 -8.08622775e+28 -8.08622775e+28 -8.08622775e+28\n",
      " -8.08622775e+28 -8.08622775e+28 -8.08622775e+28 -8.08622775e+28\n",
      " -8.08622775e+28 -8.08622775e+28 -8.08622775e+28 -8.08622775e+28\n",
      " -8.08622775e+28 -8.08622775e+28 -8.08622775e+28 -8.08622775e+28\n",
      " -8.08622775e+28 -8.08622775e+28 -8.08622775e+28 -8.08622775e+28\n",
      " -8.08622775e+28 -8.08622775e+28 -8.08622775e+28 -8.08622775e+28\n",
      " -8.08622775e+28 -8.08622775e+28 -8.08622775e+28 -8.08622775e+28\n",
      " -8.08622775e+28 -8.08622775e+28 -8.08622775e+28 -8.08622775e+28\n",
      " -8.08622775e+28 -8.08622775e+28 -8.08622775e+28 -8.08622775e+28\n",
      " -8.08622775e+28 -8.08622775e+28 -8.08622775e+28 -8.08622775e+28\n",
      " -8.08622775e+28 -8.08622775e+28 -8.08622775e+28 -8.08622775e+28\n",
      " -8.08622775e+28 -8.08622775e+28 -8.08622775e+28 -8.08622775e+28\n",
      " -8.08622775e+28 -8.08622775e+28 -8.08622775e+28 -8.08622775e+28\n",
      " -8.08622775e+28 -8.08622775e+28 -8.08622775e+28 -8.08622775e+28\n",
      " -8.08622775e+28 -8.08622775e+28 -8.08622775e+28 -8.08622775e+28\n",
      " -8.08622775e+28 -8.08622775e+28 -8.08622775e+28 -8.08622775e+28\n",
      " -8.08622775e+28 -8.08622775e+28 -8.08622775e+28 -8.08622775e+28\n",
      " -8.08622775e+28 -8.08622775e+28 -8.08622775e+28 -8.08622775e+28\n",
      " -8.08622775e+28 -8.08622775e+28 -8.08622775e+28 -8.08622775e+28\n",
      " -8.08622775e+28 -8.08622775e+28 -8.08622775e+28 -8.08622775e+28\n",
      " -8.08623043e+28 -8.08623043e+28 -8.08623043e+28 -8.08623043e+28\n",
      " -8.08623311e+28 -8.08623311e+28 -8.08623311e+28 -8.08623445e+28\n",
      " -8.08623445e+28 -8.08623445e+28 -8.08623445e+28 -8.08623445e+28\n",
      " -8.08623445e+28 -8.08623445e+28 -8.08623445e+28 -8.08623445e+28\n",
      " -8.08623445e+28 -8.08623445e+28 -8.08623445e+28 -8.08623445e+28\n",
      " -8.08623445e+28 -8.08623445e+28 -8.08623445e+28 -8.08623445e+28\n",
      " -8.08623445e+28 -8.08623445e+28 -8.08623445e+28 -8.08623445e+28\n",
      " -8.08623445e+28 -8.08623445e+28 -8.08623445e+28 -8.08623445e+28\n",
      " -8.08623445e+28 -8.08623445e+28 -8.08623445e+28 -8.08623445e+28\n",
      " -8.08623445e+28 -8.08623445e+28 -8.08623445e+28 -8.08623445e+28\n",
      " -8.08623445e+28 -8.08623445e+28 -8.08623445e+28 -8.08623445e+28\n",
      " -8.08623445e+28 -8.08623445e+28 -8.08623445e+28 -8.08623445e+28\n",
      " -8.08623445e+28 -8.08623445e+28 -8.08623445e+28 -8.08623445e+28\n",
      " -8.08623445e+28 -8.08623445e+28 -8.08623445e+28 -8.08623445e+28\n",
      " -8.08623445e+28 -8.08623445e+28 -8.08623445e+28 -8.08623445e+28\n",
      " -8.08623445e+28 -8.08623445e+28 -8.08623445e+28 -8.08623445e+28\n",
      " -8.08623445e+28 -8.08623445e+28 -8.08623445e+28 -8.08623445e+28\n",
      " -8.08623445e+28 -8.08623445e+28 -8.08623445e+28 -8.08623445e+28\n",
      " -8.08623445e+28 -8.08623445e+28 -8.08623445e+28 -8.08623445e+28\n",
      " -8.08623445e+28 -8.08623445e+28 -8.08623445e+28 -8.08623445e+28\n",
      " -8.08623445e+28 -8.08623445e+28 -8.08623445e+28 -8.08623445e+28\n",
      " -8.08623445e+28 -8.08623578e+28 -8.08623578e+28 -8.08623846e+28\n",
      " -8.08623846e+28 -8.08623980e+28 -8.08624248e+28 -8.08624248e+28\n",
      " -8.08624382e+28 -8.08624516e+28 -8.08624516e+28 -8.08624516e+28\n",
      " -8.08624516e+28 -8.08624516e+28 -8.08624516e+28 -8.08624516e+28\n",
      " -8.08624516e+28 -8.08624516e+28 -8.08624516e+28 -8.08624516e+28\n",
      " -8.08624516e+28 -8.08624516e+28 -8.08624516e+28 -8.08624516e+28\n",
      " -8.08624516e+28 -8.08624516e+28 -8.08624516e+28 -8.08624516e+28\n",
      " -8.08624516e+28 -8.08624516e+28 -8.08624516e+28 -8.08624516e+28\n",
      " -8.08624516e+28 -8.08624516e+28 -8.08624516e+28 -8.08624516e+28\n",
      " -8.08624516e+28 -8.08624516e+28 -8.08624516e+28 -8.08624516e+28\n",
      " -8.08624516e+28 -8.08624516e+28 -8.08624516e+28 -8.08624516e+28\n",
      " -8.08624516e+28 -8.08624516e+28 -8.08624516e+28 -8.08624516e+28\n",
      " -8.08624516e+28 -8.08624516e+28 -8.08624516e+28 -8.08624516e+28\n",
      " -8.08624516e+28 -8.08624516e+28 -8.08624516e+28 -8.08624516e+28\n",
      " -8.08624516e+28 -8.08624516e+28 -8.08624516e+28 -8.08624516e+28\n",
      " -8.08624516e+28 -8.08624516e+28 -8.08624516e+28 -8.08624516e+28\n",
      " -8.08624516e+28 -8.08624516e+28 -8.08624516e+28 -8.08624516e+28\n",
      " -8.08624516e+28 -8.08624516e+28 -8.08624516e+28 -8.08624516e+28\n",
      " -8.08624516e+28 -8.08624516e+28 -8.08624516e+28 -8.08624516e+28\n",
      " -8.08624516e+28 -8.08624516e+28 -8.08624516e+28 -8.08624516e+28\n",
      " -8.08624516e+28 -8.08624516e+28 -8.08624516e+28 -8.08624516e+28\n",
      " -8.08624516e+28 -8.08624516e+28 -8.08624516e+28 -8.08624516e+28\n",
      " -8.08624516e+28 -8.08624516e+28 -8.08624516e+28 -8.08624516e+28]\n"
     ]
    }
   ],
   "source": [
    "plt.plot(range(len(pdf)), pdf)\n",
    "plt.title(\"test \")\n",
    "plt.xlabel(\"$x$\")\n",
    "plt.ylabel(\"$p(x)$\")\n",
    "plt.show()\n",
    "print(pdf)"
   ]
  },
  {
   "cell_type": "code",
   "execution_count": 81,
   "metadata": {},
   "outputs": [
    {
     "data": {
      "image/png": "[encoded data removed]",
      "text/plain": [
       "<Figure size 432x288 with 1 Axes>"
      ]
     },
     "metadata": {
      "needs_background": "light"
     },
     "output_type": "display_data"
    }
   ],
   "source": [
    "plt.plot(range(len(reconstruction_error_new)), reconstruction_error_new)\n",
    "plt.title(\"test \")\n",
    "plt.xlabel(\"$x$\")\n",
    "plt.ylabel(\"$p(x)$\")\n",
    "plt.show()"
   ]
  },
  {
   "cell_type": "code",
   "execution_count": 82,
   "metadata": {},
   "outputs": [
    {
     "data": {
      "image/png": "[encoded data removed]",
      "text/plain": [
       "<Figure size 432x288 with 1 Axes>"
      ]
     },
     "metadata": {
      "needs_background": "light"
     },
     "output_type": "display_data"
    }
   ],
   "source": [
    "plt.plot(range(len(newdata)), newdata[:, 45])\n",
    "plt.plot(range(len(newdata)), newdata[:, 46])\n",
    "plt.title(\"test \")\n",
    "plt.xlabel(\"$x$\")\n",
    "plt.ylabel(\"$p(x)$\")\n",
    "plt.show()"
   ]
  },
  {
   "cell_type": "code",
   "execution_count": 94,
   "metadata": {},
   "outputs": [
    {
     "data": {
      "text/plain": [
       "(796.506901365338, 258.02361837433557)"
      ]
     },
     "execution_count": 94,
     "metadata": {},
     "output_type": "execute_result"
    }
   ],
   "source": [
    "rce_mean, rce_std"
   ]
  },
  {
   "cell_type": "code",
   "execution_count": 52,
   "metadata": {},
   "outputs": [
    {
     "data": {
      "text/plain": [
       "(538.4832829910024, 1054.5305197396735)"
      ]
     },
     "execution_count": 52,
     "metadata": {},
     "output_type": "execute_result"
    }
   ],
   "source": [
    "rce_mean - rce_std, rce_mean + rce_std"
   ]
  },
  {
   "cell_type": "code",
   "execution_count": 43,
   "metadata": {},
   "outputs": [
    {
     "data": {
      "text/plain": [
       "array([[   0.        ,    0.        , -411.7898564 , ...,  -18.00440336,\n",
       "         -35.41029177,  -18.52678769],\n",
       "       [   0.        ,    0.        , -411.78973378, ...,  -18.00438843,\n",
       "         -35.41032143,  -18.5268016 ],\n",
       "       [   0.        ,    0.        , -411.78955081, ...,  -18.00440901,\n",
       "         -35.41035053,  -18.52674593],\n",
       "       ...,\n",
       "       [   0.        ,    0.        , -411.78972511, ...,  -18.00430451,\n",
       "         -35.41034941,  -18.52680203],\n",
       "       [   0.        ,    0.        , -411.78918731, ...,  -18.00431096,\n",
       "         -35.41028002,  -18.52674678],\n",
       "       [   0.        ,    0.        , -411.78981283, ...,  -18.00440498,\n",
       "         -35.4103371 ,  -18.52678642]])"
      ]
     },
     "execution_count": 43,
     "metadata": {},
     "output_type": "execute_result"
    }
   ],
   "source": [
    "newdata"
   ]
  },
  {
   "cell_type": "code",
   "execution_count": null,
   "metadata": {},
   "outputs": [],
   "source": []
  },
  {
   "cell_type": "code",
   "execution_count": null,
   "metadata": {},
   "outputs": [],
   "source": []
  },
  {
   "cell_type": "code",
   "execution_count": 214,
   "metadata": {},
   "outputs": [
    {
     "name": "stdout",
     "output_type": "stream",
     "text": [
      "PDF [-8.08625988e+28 -8.08625721e+28 -8.08625988e+28 ... -8.08626256e+28\n",
      " -8.08626122e+28 -8.08626122e+28]\n",
      "rate [-5.22994462e+33 -5.22994289e+33 -5.22994462e+33 ... -5.22994635e+33\n",
      " -5.22994549e+33 -5.22994549e+33]\n"
     ]
    },
    {
     "ename": "ValueError",
     "evalue": "The truth value of an array with more than one element is ambiguous. Use a.any() or a.all()",
     "output_type": "error",
     "traceback": [
      "\u001b[0;31m---------------------------------------------------------------------------\u001b[0m",
      "\u001b[0;31mValueError\u001b[0m                                Traceback (most recent call last)",
      "\u001b[0;32m<ipython-input-214-c08fefe1bf38>\u001b[0m in \u001b[0;36m<module>\u001b[0;34m\u001b[0m\n\u001b[1;32m      2\u001b[0m \u001b[0mprint\u001b[0m\u001b[0;34m(\u001b[0m\u001b[0;34m\"rate\"\u001b[0m\u001b[0;34m,\u001b[0m \u001b[0;34m(\u001b[0m\u001b[0mpdf\u001b[0m\u001b[0;34m/\u001b[0m\u001b[0mmaxg\u001b[0m\u001b[0;34m)\u001b[0m\u001b[0;34m*\u001b[0m\u001b[0;36m100\u001b[0m\u001b[0;34m)\u001b[0m\u001b[0;34m\u001b[0m\u001b[0;34m\u001b[0m\u001b[0m\n\u001b[1;32m      3\u001b[0m \u001b[0;34m\u001b[0m\u001b[0m\n\u001b[0;32m----> 4\u001b[0;31m \u001b[0;32mif\u001b[0m \u001b[0;36m60\u001b[0m \u001b[0;34m<=\u001b[0m \u001b[0mpdf\u001b[0m \u001b[0;34m<=\u001b[0m\u001b[0;36m80\u001b[0m \u001b[0;34m:\u001b[0m\u001b[0;34m\u001b[0m\u001b[0;34m\u001b[0m\u001b[0m\n\u001b[0m\u001b[1;32m      5\u001b[0m     \u001b[0mprint\u001b[0m\u001b[0;34m(\u001b[0m\u001b[0;34m\"caution\"\u001b[0m\u001b[0;34m)\u001b[0m\u001b[0;34m\u001b[0m\u001b[0;34m\u001b[0m\u001b[0m\n\u001b[1;32m      6\u001b[0m     \u001b[0;31m#curl 127.0.0.1:{PORT}/nsfs/nsf1/nsf2/1\u001b[0m\u001b[0;34m\u001b[0m\u001b[0;34m\u001b[0m\u001b[0;34m\u001b[0m\u001b[0m\n",
      "\u001b[0;31mValueError\u001b[0m: The truth value of an array with more than one element is ambiguous. Use a.any() or a.all()"
     ]
    }
   ],
   "source": [
    "print(\"PDF\", pdf)\n",
    "print(\"rate\", (pdf/maxg)*100)\n",
    "\n",
    "if 60 <= pdf <=80 :\n",
    "    print(\"caution\")\n",
    "    #curl 127.0.0.1:{PORT}/nsfs/nsf1/nsf2/1\n",
    "\n",
    "elif 80 < pdf :\n",
    "    print(\"error?\")\n",
    "    #curl 127.0.0.1:{PORT}/nsfs/nsf1/nsf2/1\n",
    "    \n",
    "    \n",
    "elif 95 < pdf :\n",
    "    print(\"end\")\n",
    "    #curl 127.0.0.1:{PORT}/nsfs/nsf1/nsf2/1  "
   ]
  },
  {
   "cell_type": "code",
   "execution_count": null,
   "metadata": {},
   "outputs": [],
   "source": [
    "dist = pairwise_distances(Z_newdata, z_prime_CPU)"
   ]
  },
  {
   "cell_type": "code",
   "execution_count": null,
   "metadata": {},
   "outputs": [],
   "source": [
    "# Plot Reconstruction Error \n",
    "neg_height = 1\n",
    "min_val = min(min(reconstruction_error), min(reconstruction_error_neg))\n",
    "max_val = max(max(reconstruction_error), max(reconstruction_error_neg))\n",
    "bins = np.linspace(min_val, \n",
    "                   max_val,\n",
    "                   100)\n",
    "\n",
    "plt.hist(reconstruction_error_neg * neg_height, bins=bins, alpha=0.5, color='red', label='abnormal')\n",
    "plt.hist(reconstruction_error, bins=bins, alpha=0.5,color='k', label='normal')\n",
    "plt.legend()\n",
    "plt.show()"
   ]
  },
  {
   "cell_type": "code",
   "execution_count": null,
   "metadata": {},
   "outputs": [],
   "source": []
  },
  {
   "cell_type": "code",
   "execution_count": null,
   "metadata": {},
   "outputs": [],
   "source": []
  },
  {
   "cell_type": "code",
   "execution_count": null,
   "metadata": {},
   "outputs": [],
   "source": []
  },
  {
   "cell_type": "code",
   "execution_count": null,
   "metadata": {},
   "outputs": [],
   "source": []
  },
  {
   "cell_type": "code",
   "execution_count": null,
   "metadata": {},
   "outputs": [],
   "source": []
  },
  {
   "cell_type": "code",
   "execution_count": null,
   "metadata": {},
   "outputs": [],
   "source": []
  },
  {
   "cell_type": "code",
   "execution_count": null,
   "metadata": {},
   "outputs": [],
   "source": []
  }
 ],
 "metadata": {
  "kernelspec": {
   "display_name": "Python 3",
   "language": "python",
   "name": "python3"
  },
  "language_info": {
   "codemirror_mode": {
    "name": "ipython",
    "version": 3
   },
   "file_extension": ".py",
   "mimetype": "text/x-python",
   "name": "python",
   "nbconvert_exporter": "python",
   "pygments_lexer": "ipython3",
   "version": "3.7.5"
  }
 },
 "nbformat": 4,
 "nbformat_minor": 4
}
