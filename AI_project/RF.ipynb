{
 "cells": [
  {
   "cell_type": "code",
   "execution_count": 7,
   "metadata": {},
   "outputs": [
    {
     "name": "stdout",
     "output_type": "stream",
     "text": [
      "train score : 1.0\n",
      "val score : 0.9857142857142858\n",
      "              precision    recall  f1-score   support\n",
      "\n",
      "           0      0.990     1.000     0.995       195\n",
      "           1      1.000     0.976     0.988        85\n",
      "\n",
      "    accuracy                          0.993       280\n",
      "   macro avg      0.995     0.988     0.991       280\n",
      "weighted avg      0.993     0.993     0.993       280\n",
      "\n",
      "test score : 0.9928571428571429\n"
     ]
    },
    {
     "data": {
      "text/plain": [
       "<matplotlib.axes._subplots.AxesSubplot at 0x7fa8b93ee2d0>"
      ]
     },
     "execution_count": 7,
     "metadata": {},
     "output_type": "execute_result"
    },
    {
     "data": {
      "image/png": "[encoded data removed]",
      "text/plain": [
       "<Figure size 432x288 with 1 Axes>"
      ]
     },
     "metadata": {
      "needs_background": "light"
     },
     "output_type": "display_data"
    }
   ],
   "source": [
    "from sklearn.tree import DecisionTreeClassifier\n",
    "from sklearn.ensemble import RandomForestClassifier\n",
    "from sklearn.model_selection import train_test_split\n",
    "import pandas as pd\n",
    "import time\n",
    "from matplotlib import pyplot as plt\n",
    "import sys\n",
    "\n",
    "data = pd.read_csv(\"./10feature_cpu.csv\")\n",
    "\n",
    "col = list(map(str, data.columns))\n",
    "x = data[col[:-1]]\n",
    "y = data[col[-1]]\n",
    "#print(x,y)\n",
    "x_train, x_test, y_train, y_test = train_test_split(x,y,test_size=0.4)\n",
    "x_test, x_val, y_test, y_val = train_test_split(x_test,y_test, test_size=0.5)\n",
    "\n",
    "rf = RandomForestClassifier(n_estimators=100, random_state=0).fit(x_train,y_train)\n",
    "print(\"train score : {}\".format(rf.score(x_train, y_train)))\n",
    "print(\"val score : {}\".format(rf.score(x_val, y_val)))\n",
    "#print(\"test score : {}\".format(dTree.score(x_test,y_test)))\n",
    "predict_y = rf.predict(x_test)\n",
    "\n",
    "from sklearn.metrics import classification_report\n",
    "print(classification_report(y_test, rf.predict(x_test)))\n",
    "print(\"test score : {}\".format(rf.score(x_test, y_test)))\n",
    "rf.\n",
    "\n",
    "rf_im = rf.feature_importances_\n",
    "rf_im = pd.Series(rf_im, col[:-1])\n",
    "rf_im.plot(kind=\"bar\", color=\"purple\")\n",
    "#rf_im.to_csv('sample.csv')\n",
    "#print('asdasd')\n",
    "#plt.show()\n",
    "#print(rf_im.head())\n",
    "\n",
    "\n",
    "\n",
    "#print(rf_im)\n"
   ]
  },
  {
   "cell_type": "code",
   "execution_count": 6,
   "metadata": {},
   "outputs": [
    {
     "name": "stdout",
     "output_type": "stream",
     "text": [
      "[0 0 0 0 0 0 0 0 0 0 0 0 1 0 0 1 0 0 1 0 0 0 1 1 0 0 1 0 0 0 0 0 0 0 0 1 0\n",
      " 1 0 0 0 0 0 1 1 1 1 0 1 1 1 0 1 1 0 0 1 0 1 0 0 0 0 0 0 0 1 0 0 0 0 1 0 1\n",
      " 0 0 0 1 1 0 0 0 0 1 1 0 0 0 0 1 0 1 1 1 0 0 0 0 0 0 0 0 1 1 0 0 0 0 0 0 1\n",
      " 0 0 1 0 0 1 0 0 1 0 1 0 0 0 1 0 0 0 0 1 0 0 0 1 0 0 0 0 0 0 1 0 1 0 1 1 0\n",
      " 0 0 0 0 0 0 0 0 0 1 0 1 0 0 0 0 0 1 0 0 0 0 0 0 0 0 0 0 0 1 0 1 1 0 0 1 1\n",
      " 0 0 0 0 0 0 0 1 0 1 1 0 0 0 1 1 0 0 0 0 0 0 0 1 0 0 0 0 0 1 0 0 0 1 0 0 0\n",
      " 0 0 1 0 1 0 0 1 0 0 0 0 0 0 1 0 0 0 1 1 1 0 1 0 0 1 0 0 1 0 0 0 0 0 0 1 1\n",
      " 0 1 0 0 0 0 1 0 1 0 0 0 1 1 1 0 0 1 1 0 0]\n"
     ]
    }
   ],
   "source": [
    "print(predict_y)"
   ]
  },
  {
   "cell_type": "code",
   "execution_count": 11,
   "metadata": {},
   "outputs": [
    {
     "data": {
      "text/plain": [
       "'              precision    recall  f1-score   support\\n\\n           0       0.99      1.00      0.99       195\\n           1       1.00      0.98      0.99        85\\n\\n    accuracy                           0.99       280\\n   macro avg       0.99      0.99      0.99       280\\nweighted avg       0.99      0.99      0.99       280\\n'"
      ]
     },
     "execution_count": 11,
     "metadata": {},
     "output_type": "execute_result"
    }
   ],
   "source": [
    "classification_report(y_test, rf.predict(x_test))"
   ]
  },
  {
   "cell_type": "code",
   "execution_count": 23,
   "metadata": {},
   "outputs": [],
   "source": [
    "rf_im = rf.feature_importances_"
   ]
  },
  {
   "cell_type": "code",
   "execution_count": 24,
   "metadata": {},
   "outputs": [
    {
     "data": {
      "text/plain": [
       "array([0.24531388, 0.00064776, 0.2084222 , 0.05700268, 0.01391217,\n",
       "       0.31447721, 0.09915215, 0.02870782, 0.01189104, 0.02047309])"
      ]
     },
     "execution_count": 24,
     "metadata": {},
     "output_type": "execute_result"
    }
   ],
   "source": [
    "rf_im"
   ]
  },
  {
   "cell_type": "code",
   "execution_count": 25,
   "metadata": {},
   "outputs": [
    {
     "data": {
      "text/plain": [
       "node_cpu_seconds_total                  0.245314\n",
       "node_memory_Unevictable_bytes           0.000648\n",
       "node_schedstat_waiting_seconds_total    0.208422\n",
       "node_cpu_scaling_frequency_hertz        0.057003\n",
       "node_memory_Active_anon_bytes           0.013912\n",
       "node_schedstat_running_seconds_total    0.314477\n",
       "process_cpu_seconds_total               0.099152\n",
       "node_schedstat_timeslices_total         0.028708\n",
       "node_memory_MemFree_bytes               0.011891\n",
       "node_procs_running                      0.020473\n",
       "dtype: float64"
      ]
     },
     "execution_count": 25,
     "metadata": {},
     "output_type": "execute_result"
    }
   ],
   "source": [
    "rf_im = pd.Series(rf_im, col[:-1])\n",
    "#rf_im = rf_im.iloc[:4].index.tolist()\n",
    "rf_im"
   ]
  },
  {
   "cell_type": "code",
   "execution_count": null,
   "metadata": {},
   "outputs": [],
   "source": []
  }
 ],
 "metadata": {
  "kernelspec": {
   "display_name": "Python 3",
   "language": "python",
   "name": "python3"
  },
  "language_info": {
   "codemirror_mode": {
    "name": "ipython",
    "version": 3
   },
   "file_extension": ".py",
   "mimetype": "text/x-python",
   "name": "python",
   "nbconvert_exporter": "python",
   "pygments_lexer": "ipython3",
   "version": "3.7.5"
  }
 },
 "nbformat": 4,
 "nbformat_minor": 4
}
